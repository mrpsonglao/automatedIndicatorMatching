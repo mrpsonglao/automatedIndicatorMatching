{
 "cells": [
  {
   "cell_type": "markdown",
   "metadata": {},
   "source": [
    "# Comparing TCdata360 and Govdata360 indicator lists\n",
    "Data sources:\n",
    "- For TCdata360 indicator list: http://tcdata360-backend.worldbank.org/api/v1/indicators/\n",
    "- For Govdata360 indicator list: http://govdata360-backend.worldbank.org/api/v1/indicators/"
   ]
  },
  {
   "cell_type": "markdown",
   "metadata": {},
   "source": [
    "\n",
    "## Import Modules"
   ]
  },
  {
   "cell_type": "code",
   "execution_count": 1,
   "metadata": {
    "ExecuteTime": {
     "end_time": "2017-07-05T09:42:09.267233Z",
     "start_time": "2017-07-05T09:41:58.509423Z"
    }
   },
   "outputs": [
    {
     "name": "stderr",
     "output_type": "stream",
     "text": [
      "C:\\Users\\mrpso\\Anaconda3\\lib\\site-packages\\fuzzywuzzy\\fuzz.py:35: UserWarning: Using slow pure-python SequenceMatcher. Install python-Levenshtein to remove this warning\n",
      "  warnings.warn('Using slow pure-python SequenceMatcher. Install python-Levenshtein to remove this warning')\n"
     ]
    }
   ],
   "source": [
    "import pandas as pd\n",
    "import numpy as np\n",
    "import requests\n",
    "import matplotlib.pyplot as plt\n",
    "import datetime\n",
    "\n",
    "import re\n",
    "from nltk import distance\n",
    "from fuzzywuzzy import fuzz, process\n",
    "\n",
    "%matplotlib inline"
   ]
  },
  {
   "cell_type": "code",
   "execution_count": 2,
   "metadata": {
    "ExecuteTime": {
     "end_time": "2017-07-05T09:42:09.273249Z",
     "start_time": "2017-07-05T09:42:09.269260Z"
    },
    "collapsed": true
   },
   "outputs": [],
   "source": [
    "date_today = datetime.date.today().isoformat()"
   ]
  },
  {
   "cell_type": "markdown",
   "metadata": {},
   "source": [
    "## Generate TCdata360 and Govdata360 indicator datasets"
   ]
  },
  {
   "cell_type": "code",
   "execution_count": 43,
   "metadata": {
    "ExecuteTime": {
     "end_time": "2017-07-05T09:58:37.048190Z",
     "start_time": "2017-07-05T09:58:32.814154Z"
    }
   },
   "outputs": [
    {
     "data": {
      "text/plain": [
       "(2095, 16)"
      ]
     },
     "execution_count": 43,
     "metadata": {},
     "output_type": "execute_result"
    }
   ],
   "source": [
    "url ='http://tcdata360-backend.worldbank.org/api/v1/indicators/'\n",
    "response = requests.get(url)\n",
    "tc_indicators = pd.read_json(response.text)\n",
    "tc_indicators.shape"
   ]
  },
  {
   "cell_type": "code",
   "execution_count": 42,
   "metadata": {
    "ExecuteTime": {
     "end_time": "2017-07-05T09:58:31.465593Z",
     "start_time": "2017-07-05T09:58:26.901987Z"
    }
   },
   "outputs": [
    {
     "data": {
      "text/plain": [
       "(3230, 16)"
      ]
     },
     "execution_count": 42,
     "metadata": {},
     "output_type": "execute_result"
    }
   ],
   "source": [
    "url ='http://govdata360-backend.worldbank.org/api/v1/indicators/'\n",
    "response = requests.get(url)\n",
    "gv_indicators = pd.read_json(response.text)\n",
    "gv_indicators.shape"
   ]
  },
  {
   "cell_type": "markdown",
   "metadata": {},
   "source": [
    "# Comparing TCdata360 and Govdata360 indicator lists"
   ]
  },
  {
   "cell_type": "markdown",
   "metadata": {},
   "source": [
    "## Pre-processing: Normalizing and tokenizing indicator names"
   ]
  },
  {
   "cell_type": "code",
   "execution_count": 44,
   "metadata": {
    "ExecuteTime": {
     "end_time": "2017-07-05T09:58:37.057215Z",
     "start_time": "2017-07-05T09:58:37.050192Z"
    },
    "collapsed": true
   },
   "outputs": [],
   "source": [
    "tc_indicators['name_lower'] = tc_indicators['name'].apply(lambda x: x.lower().strip())\n",
    "gv_indicators['name_lower'] = gv_indicators['name'].apply(lambda x: x.lower().strip())"
   ]
  },
  {
   "cell_type": "markdown",
   "metadata": {},
   "source": [
    "To increase chances of matching, we also replace commonly used symbols such as:\n",
    "- \"%\" or \"proportion\" to \"percent\"\n",
    "- \"#\" to \"number\"\n",
    "- '/' to \"per\"\n",
    "- replace oth special characters (e.g., -, ?, .) except $ with blanks."
   ]
  },
  {
   "cell_type": "code",
   "execution_count": 45,
   "metadata": {
    "ExecuteTime": {
     "end_time": "2017-07-05T09:58:37.088292Z",
     "start_time": "2017-07-05T09:58:37.061199Z"
    },
    "collapsed": true
   },
   "outputs": [],
   "source": [
    "gv_indicators['name_lower'] = gv_indicators['name_lower'].apply(lambda x: x.replace(\"%\", \"percent\").replace(\"proportion\", \"percent\").replace(\"#\", \"number\").replace(\"/\", \" per \"))\n",
    "tc_indicators['name_lower'] = tc_indicators['name_lower'].apply(lambda x: x.replace(\"%\", \"percent\").replace(\"proportion\", \"percent\").replace(\"#\", \"number\").replace(\"/\", \" per \"))"
   ]
  },
  {
   "cell_type": "code",
   "execution_count": 46,
   "metadata": {
    "ExecuteTime": {
     "end_time": "2017-07-05T09:58:37.120356Z",
     "start_time": "2017-07-05T09:58:37.092282Z"
    },
    "collapsed": true
   },
   "outputs": [],
   "source": [
    "tc_indicators['name_lower'] = tc_indicators['name_lower'].apply(lambda x: re.sub('[^\\w$ ]', '', x))\n",
    "gv_indicators['name_lower'] = gv_indicators['name_lower'].apply(lambda x: re.sub('[^\\w$ ]', '', x))"
   ]
  },
  {
   "cell_type": "code",
   "execution_count": 47,
   "metadata": {
    "ExecuteTime": {
     "end_time": "2017-07-05T09:58:37.138435Z",
     "start_time": "2017-07-05T09:58:37.124376Z"
    },
    "collapsed": true
   },
   "outputs": [],
   "source": [
    "tc_indicators['name_lower'] = tc_indicators['name_lower'].apply(lambda x: re.sub('[_]', ' ', x))\n",
    "gv_indicators['name_lower'] = gv_indicators['name_lower'].apply(lambda x: re.sub('[_]', ' ', x))"
   ]
  },
  {
   "cell_type": "code",
   "execution_count": 48,
   "metadata": {
    "ExecuteTime": {
     "end_time": "2017-07-05T09:58:37.167509Z",
     "start_time": "2017-07-05T09:58:37.144420Z"
    }
   },
   "outputs": [
    {
     "data": {
      "text/html": [
       "<div>\n",
       "<style>\n",
       "    .dataframe thead tr:only-child th {\n",
       "        text-align: right;\n",
       "    }\n",
       "\n",
       "    .dataframe thead th {\n",
       "        text-align: left;\n",
       "    }\n",
       "\n",
       "    .dataframe tbody tr th {\n",
       "        vertical-align: top;\n",
       "    }\n",
       "</style>\n",
       "<table border=\"1\" class=\"dataframe\">\n",
       "  <thead>\n",
       "    <tr style=\"text-align: right;\">\n",
       "      <th></th>\n",
       "      <th>name</th>\n",
       "      <th>name_lower</th>\n",
       "    </tr>\n",
       "  </thead>\n",
       "  <tbody>\n",
       "    <tr>\n",
       "      <th>0</th>\n",
       "      <td>GDP growth (annual %)</td>\n",
       "      <td>gdp growth annual percent</td>\n",
       "    </tr>\n",
       "    <tr>\n",
       "      <th>1</th>\n",
       "      <td>Venture capital availability, 1-7 (best)</td>\n",
       "      <td>venture capital availability 17 best</td>\n",
       "    </tr>\n",
       "    <tr>\n",
       "      <th>2</th>\n",
       "      <td>Venture capital availability, 1-7 (best)</td>\n",
       "      <td>venture capital availability 17 best</td>\n",
       "    </tr>\n",
       "    <tr>\n",
       "      <th>3</th>\n",
       "      <td>Research and development expenditure (% of GDP)</td>\n",
       "      <td>research and development expenditure percent o...</td>\n",
       "    </tr>\n",
       "    <tr>\n",
       "      <th>4</th>\n",
       "      <td>Foreign direct investment, net inflows (% of GDP)</td>\n",
       "      <td>foreign direct investment net inflows percent ...</td>\n",
       "    </tr>\n",
       "  </tbody>\n",
       "</table>\n",
       "</div>"
      ],
      "text/plain": [
       "                                                name  \\\n",
       "0                              GDP growth (annual %)   \n",
       "1           Venture capital availability, 1-7 (best)   \n",
       "2           Venture capital availability, 1-7 (best)   \n",
       "3    Research and development expenditure (% of GDP)   \n",
       "4  Foreign direct investment, net inflows (% of GDP)   \n",
       "\n",
       "                                          name_lower  \n",
       "0                          gdp growth annual percent  \n",
       "1               venture capital availability 17 best  \n",
       "2               venture capital availability 17 best  \n",
       "3  research and development expenditure percent o...  \n",
       "4  foreign direct investment net inflows percent ...  "
      ]
     },
     "execution_count": 48,
     "metadata": {},
     "output_type": "execute_result"
    }
   ],
   "source": [
    "tc_indicators[['name','name_lower']].head()"
   ]
  },
  {
   "cell_type": "code",
   "execution_count": 49,
   "metadata": {
    "ExecuteTime": {
     "end_time": "2017-07-05T09:58:37.452623Z",
     "start_time": "2017-07-05T09:58:37.436572Z"
    }
   },
   "outputs": [
    {
     "data": {
      "text/html": [
       "<div>\n",
       "<style>\n",
       "    .dataframe thead tr:only-child th {\n",
       "        text-align: right;\n",
       "    }\n",
       "\n",
       "    .dataframe thead th {\n",
       "        text-align: left;\n",
       "    }\n",
       "\n",
       "    .dataframe tbody tr th {\n",
       "        vertical-align: top;\n",
       "    }\n",
       "</style>\n",
       "<table border=\"1\" class=\"dataframe\">\n",
       "  <thead>\n",
       "    <tr style=\"text-align: right;\">\n",
       "      <th></th>\n",
       "      <th>name</th>\n",
       "      <th>name_lower</th>\n",
       "    </tr>\n",
       "  </thead>\n",
       "  <tbody>\n",
       "    <tr>\n",
       "      <th>3225</th>\n",
       "      <td>11_11 Civil Society Organizations</td>\n",
       "      <td>11 11 civil society organizations</td>\n",
       "    </tr>\n",
       "    <tr>\n",
       "      <th>3226</th>\n",
       "      <td>77a_In practice the government does not detain...</td>\n",
       "      <td>77a in practice the government does not detain...</td>\n",
       "    </tr>\n",
       "    <tr>\n",
       "      <th>3227</th>\n",
       "      <td>27a_In law the judiciary can review the action...</td>\n",
       "      <td>27a in law the judiciary can review the action...</td>\n",
       "    </tr>\n",
       "    <tr>\n",
       "      <th>3228</th>\n",
       "      <td>18f_In law there are requirements for the inde...</td>\n",
       "      <td>18f in law there are requirements for the inde...</td>\n",
       "    </tr>\n",
       "    <tr>\n",
       "      <th>3229</th>\n",
       "      <td>73d_In practice citizens earning the median ye...</td>\n",
       "      <td>73d in practice citizens earning the median ye...</td>\n",
       "    </tr>\n",
       "  </tbody>\n",
       "</table>\n",
       "</div>"
      ],
      "text/plain": [
       "                                                   name  \\\n",
       "3225                  11_11 Civil Society Organizations   \n",
       "3226  77a_In practice the government does not detain...   \n",
       "3227  27a_In law the judiciary can review the action...   \n",
       "3228  18f_In law there are requirements for the inde...   \n",
       "3229  73d_In practice citizens earning the median ye...   \n",
       "\n",
       "                                             name_lower  \n",
       "3225                  11 11 civil society organizations  \n",
       "3226  77a in practice the government does not detain...  \n",
       "3227  27a in law the judiciary can review the action...  \n",
       "3228  18f in law there are requirements for the inde...  \n",
       "3229  73d in practice citizens earning the median ye...  "
      ]
     },
     "execution_count": 49,
     "metadata": {},
     "output_type": "execute_result"
    }
   ],
   "source": [
    "gv_indicators[['name','name_lower']].tail()"
   ]
  },
  {
   "cell_type": "markdown",
   "metadata": {},
   "source": [
    "## Shortlisting datasets common to both indicators\n",
    "- Assumption: ease in API ingestion only works if the dataset for both TCdata360 and Govdata360 indicators are the same. Even if it's the same indicator name but coming from different dataset sources for TCdata360 and Govdata360, the matching doesn't apply.\n",
    "- Rationale: this speeds up the matching process since it reduces the number of indicator pairs to be checked."
   ]
  },
  {
   "cell_type": "code",
   "execution_count": 245,
   "metadata": {
    "ExecuteTime": {
     "end_time": "2017-07-04T19:07:53.324728Z",
     "start_time": "2017-07-04T19:07:53.318717Z"
    }
   },
   "outputs": [
    {
     "data": {
      "text/plain": [
       "{'Bertelsmann Transformation Index',\n",
       " 'Citizen Engagement in Rulemaking',\n",
       " 'Competitive Industrial Performance Index',\n",
       " 'Direction of Trade',\n",
       " 'Doing Business',\n",
       " 'ESCAP',\n",
       " 'Enabling the Business of Agriculture',\n",
       " 'Enterprise Surveys',\n",
       " 'Entrepreneurship at a Glance',\n",
       " 'Environmental Performance Index',\n",
       " 'Global Entrepreneurship Monitor Adult Population Survey',\n",
       " 'Global Entrepreneurship Monitor National Expert Survey',\n",
       " 'Heritage Index of Economic Freedom',\n",
       " 'I-TIP Goods',\n",
       " 'I-TIP Services',\n",
       " 'ITU Database',\n",
       " 'Investing Across Borders',\n",
       " 'Logistics Performance Index',\n",
       " 'Measuring Export Competitiveness',\n",
       " 'Networked Readiness index',\n",
       " 'OECD Innovation Indicators',\n",
       " 'OECD Product Market Regulation Database',\n",
       " 'Services Trade Restrictiveness Index',\n",
       " 'Sustainable Energy For All',\n",
       " 'Temporary Trade Barriers Database',\n",
       " 'Timely Indicators of Entrepreneurship',\n",
       " 'Trade in Value Added',\n",
       " 'Travel & Tourism Competitiveness Index',\n",
       " 'UNCTAD',\n",
       " 'UNCTAD Cyberlaw Tracker',\n",
       " 'UPU',\n",
       " 'United Nations Conference on Trade and Development Statistics',\n",
       " 'WB: Financial Inclusion Index (Findex)',\n",
       " 'WEF GCI Most Problematic Factors',\n",
       " 'WEF: Global Information Technology Report',\n",
       " 'Women, Business and the Law',\n",
       " 'World Development Indicators',\n",
       " 'World Economic Forum',\n",
       " 'World Economic Forum Global Competitiveness Index',\n",
       " 'World Economic Outlook',\n",
       " 'World Input Output Database',\n",
       " 'World Integrated Trade Solution',\n",
       " 'World Travel & Tourism Council',\n",
       " 'Worldwide Governance Indicators'}"
      ]
     },
     "execution_count": 245,
     "metadata": {},
     "output_type": "execute_result"
    }
   ],
   "source": [
    "set(tc_indicators['dataset'])"
   ]
  },
  {
   "cell_type": "code",
   "execution_count": 246,
   "metadata": {
    "ExecuteTime": {
     "end_time": "2017-07-04T19:07:53.520477Z",
     "start_time": "2017-07-04T19:07:53.515462Z"
    }
   },
   "outputs": [
    {
     "data": {
      "text/plain": [
       "{'Bertelsmann Transformation Index',\n",
       " 'Corruption Perceptions Index',\n",
       " 'Country Policy and Institutional Assessments',\n",
       " 'Doing Business',\n",
       " 'Enterprise Surveys',\n",
       " 'Failed States Index',\n",
       " 'Fiscal Rules Dataset',\n",
       " 'Global Competitiveness Index',\n",
       " 'Global Indicators of Regulatory Governance',\n",
       " 'Global Integrity Index',\n",
       " 'Human Resource Management',\n",
       " 'IBP Open Budget Index',\n",
       " 'Ibrahim Index of African Governance',\n",
       " 'Inter-Parliamentary Union',\n",
       " 'PEFA',\n",
       " 'Pay and Employment',\n",
       " 'Polity IV',\n",
       " 'Public Accountability Mechanisms Freedom of Information',\n",
       " 'Public Accountability Mechanisms Income and Disclosure',\n",
       " 'Public Investment Management',\n",
       " 'Quality of Govt',\n",
       " 'Statistical Capacity',\n",
       " 'Sustainable Governance Indicators',\n",
       " 'Women, Business and the Law',\n",
       " 'World Justice Project',\n",
       " 'Worldwide Governance Indicators'}"
      ]
     },
     "execution_count": 246,
     "metadata": {},
     "output_type": "execute_result"
    }
   ],
   "source": [
    "set(gv_indicators['dataset'])"
   ]
  },
  {
   "cell_type": "code",
   "execution_count": 247,
   "metadata": {
    "ExecuteTime": {
     "end_time": "2017-07-04T19:07:53.735250Z",
     "start_time": "2017-07-04T19:07:53.727199Z"
    }
   },
   "outputs": [
    {
     "data": {
      "text/plain": [
       "['Women, Business and the Law',\n",
       " 'Doing Business',\n",
       " 'Bertelsmann Transformation Index',\n",
       " 'Worldwide Governance Indicators',\n",
       " 'Enterprise Surveys',\n",
       " 'World Economic Forum Global Competitiveness Index',\n",
       " 'Global Competitiveness Index']"
      ]
     },
     "execution_count": 247,
     "metadata": {},
     "output_type": "execute_result"
    }
   ],
   "source": [
    "common_datasets = list(set(tc_indicators['dataset']) & set(gv_indicators['dataset'])) + ['World Economic Forum Global Competitiveness Index', 'Global Competitiveness Index']\n",
    "common_datasets"
   ]
  },
  {
   "cell_type": "code",
   "execution_count": 248,
   "metadata": {
    "ExecuteTime": {
     "end_time": "2017-07-04T19:07:54.026859Z",
     "start_time": "2017-07-04T19:07:54.019837Z"
    }
   },
   "outputs": [
    {
     "data": {
      "text/plain": [
       "(524, 17)"
      ]
     },
     "execution_count": 248,
     "metadata": {},
     "output_type": "execute_result"
    }
   ],
   "source": [
    "gv_indicators[gv_indicators['dataset'].isin(common_datasets)].shape"
   ]
  },
  {
   "cell_type": "code",
   "execution_count": 249,
   "metadata": {
    "ExecuteTime": {
     "end_time": "2017-07-04T19:07:54.218776Z",
     "start_time": "2017-07-04T19:07:54.208722Z"
    }
   },
   "outputs": [
    {
     "data": {
      "text/plain": [
       "(602, 17)"
      ]
     },
     "execution_count": 249,
     "metadata": {},
     "output_type": "execute_result"
    }
   ],
   "source": [
    "tc_indicators[tc_indicators['dataset'].isin(common_datasets)].shape"
   ]
  },
  {
   "cell_type": "markdown",
   "metadata": {},
   "source": [
    "We look at the number of indicators per dataset."
   ]
  },
  {
   "cell_type": "code",
   "execution_count": 250,
   "metadata": {
    "ExecuteTime": {
     "end_time": "2017-07-04T19:07:54.682657Z",
     "start_time": "2017-07-04T19:07:54.672632Z"
    }
   },
   "outputs": [
    {
     "data": {
      "text/plain": [
       "[['Women, Business and the Law'],\n",
       " ['Doing Business'],\n",
       " ['Bertelsmann Transformation Index'],\n",
       " ['Worldwide Governance Indicators'],\n",
       " ['Enterprise Surveys'],\n",
       " ['World Economic Forum Global Competitiveness Index',\n",
       "  'Global Competitiveness Index']]"
      ]
     },
     "execution_count": 250,
     "metadata": {},
     "output_type": "execute_result"
    }
   ],
   "source": [
    "common_datasets = [[dataset] for dataset in list(set(tc_indicators['dataset']) & set(gv_indicators['dataset']))] + [['World Economic Forum Global Competitiveness Index', 'Global Competitiveness Index']]\n",
    "common_datasets"
   ]
  },
  {
   "cell_type": "code",
   "execution_count": 251,
   "metadata": {
    "ExecuteTime": {
     "end_time": "2017-07-04T19:07:55.000921Z",
     "start_time": "2017-07-04T19:07:54.980884Z"
    },
    "collapsed": true
   },
   "outputs": [],
   "source": [
    "dataset_count = {}\n",
    "for dataset in common_datasets:\n",
    "    tc_count = tc_indicators[tc_indicators['dataset'].isin(dataset)].shape[0]\n",
    "    gv_count = gv_indicators[gv_indicators['dataset'].isin(dataset)].shape[0]\n",
    "    dataset_count[dataset[0]] = [tc_count, gv_count]\n",
    "    \n",
    "df_dataset_count = pd.DataFrame(dataset_count).T\n",
    "df_dataset_count.columns = ['tc_indicator_count', 'gv_indicator_count']"
   ]
  },
  {
   "cell_type": "code",
   "execution_count": 252,
   "metadata": {
    "ExecuteTime": {
     "end_time": "2017-07-04T19:07:55.422697Z",
     "start_time": "2017-07-04T19:07:55.414676Z"
    }
   },
   "outputs": [
    {
     "data": {
      "text/html": [
       "<div>\n",
       "<style>\n",
       "    .dataframe thead tr:only-child th {\n",
       "        text-align: right;\n",
       "    }\n",
       "\n",
       "    .dataframe thead th {\n",
       "        text-align: left;\n",
       "    }\n",
       "\n",
       "    .dataframe tbody tr th {\n",
       "        vertical-align: top;\n",
       "    }\n",
       "</style>\n",
       "<table border=\"1\" class=\"dataframe\">\n",
       "  <thead>\n",
       "    <tr style=\"text-align: right;\">\n",
       "      <th></th>\n",
       "      <th>tc_indicator_count</th>\n",
       "      <th>gv_indicator_count</th>\n",
       "    </tr>\n",
       "  </thead>\n",
       "  <tbody>\n",
       "    <tr>\n",
       "      <th>Bertelsmann Transformation Index</th>\n",
       "      <td>3</td>\n",
       "      <td>52</td>\n",
       "    </tr>\n",
       "    <tr>\n",
       "      <th>Doing Business</th>\n",
       "      <td>76</td>\n",
       "      <td>108</td>\n",
       "    </tr>\n",
       "    <tr>\n",
       "      <th>Enterprise Surveys</th>\n",
       "      <td>121</td>\n",
       "      <td>118</td>\n",
       "    </tr>\n",
       "    <tr>\n",
       "      <th>Women, Business and the Law</th>\n",
       "      <td>132</td>\n",
       "      <td>132</td>\n",
       "    </tr>\n",
       "    <tr>\n",
       "      <th>World Economic Forum Global Competitiveness Index</th>\n",
       "      <td>240</td>\n",
       "      <td>108</td>\n",
       "    </tr>\n",
       "    <tr>\n",
       "      <th>Worldwide Governance Indicators</th>\n",
       "      <td>30</td>\n",
       "      <td>6</td>\n",
       "    </tr>\n",
       "  </tbody>\n",
       "</table>\n",
       "</div>"
      ],
      "text/plain": [
       "                                                   tc_indicator_count  \\\n",
       "Bertelsmann Transformation Index                                    3   \n",
       "Doing Business                                                     76   \n",
       "Enterprise Surveys                                                121   \n",
       "Women, Business and the Law                                       132   \n",
       "World Economic Forum Global Competitiveness Index                 240   \n",
       "Worldwide Governance Indicators                                    30   \n",
       "\n",
       "                                                   gv_indicator_count  \n",
       "Bertelsmann Transformation Index                                   52  \n",
       "Doing Business                                                    108  \n",
       "Enterprise Surveys                                                118  \n",
       "Women, Business and the Law                                       132  \n",
       "World Economic Forum Global Competitiveness Index                 108  \n",
       "Worldwide Governance Indicators                                     6  "
      ]
     },
     "execution_count": 252,
     "metadata": {},
     "output_type": "execute_result"
    }
   ],
   "source": [
    "df_dataset_count"
   ]
  },
  {
   "cell_type": "markdown",
   "metadata": {},
   "source": [
    "## Matching indicators using  `fuzzywuzzy` ratio, partial ratio, token sort ratio, and token set ratio"
   ]
  },
  {
   "cell_type": "markdown",
   "metadata": {},
   "source": [
    "We generate the fuzzywuzzy statistics for all indicator pairs for all datasets."
   ]
  },
  {
   "cell_type": "code",
   "execution_count": 253,
   "metadata": {
    "ExecuteTime": {
     "end_time": "2017-07-04T19:10:31.367093Z",
     "start_time": "2017-07-04T19:07:56.475253Z"
    },
    "collapsed": true
   },
   "outputs": [],
   "source": [
    "df_name_lower_comp_all = pd.DataFrame()\n",
    "fuzz_stats = ['ratio', 'partial_ratio', 'token_sort_ratio', 'token_set_ratio']\n",
    "df_cols = ['gv_indicator', 'tc_indicator', 'ratio', 'partial_ratio', 'token_sort_ratio', 'token_set_ratio']\n",
    "\n",
    "for dataset in common_datasets:\n",
    "    tc_indicators_shortlist = tc_indicators[tc_indicators['dataset'].isin(dataset)]\n",
    "    gv_indicators_shortlist = gv_indicators[gv_indicators['dataset'].isin(dataset)]\n",
    "\n",
    "    tc_list = list(set(tc_indicators_shortlist['name_lower']))\n",
    "    gv_list = list(set(gv_indicators_shortlist['name_lower']))\n",
    "\n",
    "    name_lower_comparison_fuzz = []\n",
    "    for gv_ind in gv_list:\n",
    "        for tc_ind in tc_list:\n",
    "            name_lower_comparison_fuzz.append([gv_ind,tc_ind, fuzz.ratio(gv_ind,tc_ind), fuzz.partial_ratio(gv_ind,tc_ind), fuzz.token_sort_ratio(gv_ind,tc_ind),  fuzz.token_set_ratio(gv_ind,tc_ind)])\n",
    "        \n",
    "    df_name_lower_comparison_fuzz = pd.DataFrame(name_lower_comparison_fuzz, columns = df_cols)\n",
    "    df_name_lower_comparison_fuzz['stat_mean'] = df_name_lower_comparison_fuzz[fuzz_stats].mean(axis=1)\n",
    "    df_name_lower_comparison_fuzz['stat_min'] = df_name_lower_comparison_fuzz[fuzz_stats].min(axis=1)\n",
    "    df_name_lower_comparison_fuzz['stat_max'] = df_name_lower_comparison_fuzz[fuzz_stats].max(axis=1)\n",
    "\n",
    "    df_name_lower_comparison_fuzz['source_dataset'] = dataset[0]\n",
    "    df_name_lower_comp_all = df_name_lower_comp_all.append(df_name_lower_comparison_fuzz)"
   ]
  },
  {
   "cell_type": "code",
   "execution_count": 254,
   "metadata": {
    "ExecuteTime": {
     "end_time": "2017-07-04T19:10:31.386144Z",
     "start_time": "2017-07-04T19:10:31.369110Z"
    }
   },
   "outputs": [
    {
     "data": {
      "text/html": [
       "<div>\n",
       "<style>\n",
       "    .dataframe thead tr:only-child th {\n",
       "        text-align: right;\n",
       "    }\n",
       "\n",
       "    .dataframe thead th {\n",
       "        text-align: left;\n",
       "    }\n",
       "\n",
       "    .dataframe tbody tr th {\n",
       "        vertical-align: top;\n",
       "    }\n",
       "</style>\n",
       "<table border=\"1\" class=\"dataframe\">\n",
       "  <thead>\n",
       "    <tr style=\"text-align: right;\">\n",
       "      <th></th>\n",
       "      <th>gv_indicator</th>\n",
       "      <th>tc_indicator</th>\n",
       "      <th>ratio</th>\n",
       "      <th>partial_ratio</th>\n",
       "      <th>token_sort_ratio</th>\n",
       "      <th>token_set_ratio</th>\n",
       "      <th>stat_mean</th>\n",
       "      <th>stat_min</th>\n",
       "      <th>stat_max</th>\n",
       "      <th>source_dataset</th>\n",
       "    </tr>\n",
       "  </thead>\n",
       "  <tbody>\n",
       "    <tr>\n",
       "      <th>0</th>\n",
       "      <td>what is the age at which a man can retire and ...</td>\n",
       "      <td>what is the age at which a man can retire and ...</td>\n",
       "      <td>100</td>\n",
       "      <td>100</td>\n",
       "      <td>100</td>\n",
       "      <td>100</td>\n",
       "      <td>100.0</td>\n",
       "      <td>100</td>\n",
       "      <td>100</td>\n",
       "      <td>Women, Business and the Law</td>\n",
       "    </tr>\n",
       "    <tr>\n",
       "      <th>1</th>\n",
       "      <td>what is the age at which a man can retire and ...</td>\n",
       "      <td>can nonpregnant and nonnursing women engage in...</td>\n",
       "      <td>21</td>\n",
       "      <td>37</td>\n",
       "      <td>40</td>\n",
       "      <td>32</td>\n",
       "      <td>32.5</td>\n",
       "      <td>21</td>\n",
       "      <td>40</td>\n",
       "      <td>Women, Business and the Law</td>\n",
       "    </tr>\n",
       "    <tr>\n",
       "      <th>2</th>\n",
       "      <td>what is the age at which a man can retire and ...</td>\n",
       "      <td>do protection orders cover prohibition of cont...</td>\n",
       "      <td>19</td>\n",
       "      <td>25</td>\n",
       "      <td>38</td>\n",
       "      <td>36</td>\n",
       "      <td>29.5</td>\n",
       "      <td>19</td>\n",
       "      <td>38</td>\n",
       "      <td>Women, Business and the Law</td>\n",
       "    </tr>\n",
       "    <tr>\n",
       "      <th>3</th>\n",
       "      <td>what is the age at which a man can retire and ...</td>\n",
       "      <td>does the law mandate paid or unpaid paternity ...</td>\n",
       "      <td>40</td>\n",
       "      <td>45</td>\n",
       "      <td>35</td>\n",
       "      <td>36</td>\n",
       "      <td>39.0</td>\n",
       "      <td>35</td>\n",
       "      <td>45</td>\n",
       "      <td>Women, Business and the Law</td>\n",
       "    </tr>\n",
       "    <tr>\n",
       "      <th>4</th>\n",
       "      <td>what is the age at which a man can retire and ...</td>\n",
       "      <td>is personal law recognized as a valid source o...</td>\n",
       "      <td>19</td>\n",
       "      <td>30</td>\n",
       "      <td>44</td>\n",
       "      <td>43</td>\n",
       "      <td>34.0</td>\n",
       "      <td>19</td>\n",
       "      <td>44</td>\n",
       "      <td>Women, Business and the Law</td>\n",
       "    </tr>\n",
       "  </tbody>\n",
       "</table>\n",
       "</div>"
      ],
      "text/plain": [
       "                                        gv_indicator  \\\n",
       "0  what is the age at which a man can retire and ...   \n",
       "1  what is the age at which a man can retire and ...   \n",
       "2  what is the age at which a man can retire and ...   \n",
       "3  what is the age at which a man can retire and ...   \n",
       "4  what is the age at which a man can retire and ...   \n",
       "\n",
       "                                        tc_indicator  ratio  partial_ratio  \\\n",
       "0  what is the age at which a man can retire and ...    100            100   \n",
       "1  can nonpregnant and nonnursing women engage in...     21             37   \n",
       "2  do protection orders cover prohibition of cont...     19             25   \n",
       "3  does the law mandate paid or unpaid paternity ...     40             45   \n",
       "4  is personal law recognized as a valid source o...     19             30   \n",
       "\n",
       "   token_sort_ratio  token_set_ratio  stat_mean  stat_min  stat_max  \\\n",
       "0               100              100      100.0       100       100   \n",
       "1                40               32       32.5        21        40   \n",
       "2                38               36       29.5        19        38   \n",
       "3                35               36       39.0        35        45   \n",
       "4                44               43       34.0        19        44   \n",
       "\n",
       "                source_dataset  \n",
       "0  Women, Business and the Law  \n",
       "1  Women, Business and the Law  \n",
       "2  Women, Business and the Law  \n",
       "3  Women, Business and the Law  \n",
       "4  Women, Business and the Law  "
      ]
     },
     "execution_count": 254,
     "metadata": {},
     "output_type": "execute_result"
    }
   ],
   "source": [
    "df_name_lower_comp_all.head()"
   ]
  },
  {
   "cell_type": "code",
   "execution_count": 255,
   "metadata": {
    "ExecuteTime": {
     "end_time": "2017-07-04T19:10:31.860417Z",
     "start_time": "2017-07-04T19:10:31.388149Z"
    },
    "scrolled": false
   },
   "outputs": [
    {
     "data": {
      "text/plain": [
       "<matplotlib.text.Text at 0x2298b0a10b8>"
      ]
     },
     "execution_count": 255,
     "metadata": {},
     "output_type": "execute_result"
    },
    {
     "data": {
      "image/png": "[encoded data removed]",
      "text/plain": [
       "<matplotlib.figure.Figure at 0x2298cda80f0>"
      ]
     },
     "metadata": {},
     "output_type": "display_data"
    }
   ],
   "source": [
    "df_name_lower_comp_all.groupby('gv_indicator')['stat_mean'].max().hist(bins=100)\n",
    "plt.title('Histogram of Max Average Fuzzy Statistics per paired indicator')"
   ]
  },
  {
   "cell_type": "code",
   "execution_count": 256,
   "metadata": {
    "ExecuteTime": {
     "end_time": "2017-07-04T19:10:33.263132Z",
     "start_time": "2017-07-04T19:10:31.862411Z"
    }
   },
   "outputs": [
    {
     "data": {
      "text/plain": [
       "(95, 100)"
      ]
     },
     "execution_count": 256,
     "metadata": {},
     "output_type": "execute_result"
    },
    {
     "data": {
      "image/png": "[encoded data removed]",
      "text/plain": [
       "<matplotlib.figure.Figure at 0x2298b0da860>"
      ]
     },
     "metadata": {},
     "output_type": "display_data"
    }
   ],
   "source": [
    "df_name_lower_comp_all.groupby('gv_indicator')['stat_mean'].max().hist(bins=500)\n",
    "plt.title('Histogram of Max Average Fuzzy Statistics per paired indicator')\n",
    "plt.xlim(95,100)"
   ]
  },
  {
   "cell_type": "code",
   "execution_count": 257,
   "metadata": {
    "ExecuteTime": {
     "end_time": "2017-07-04T19:10:33.836657Z",
     "start_time": "2017-07-04T19:10:33.265140Z"
    }
   },
   "outputs": [
    {
     "data": {
      "text/plain": [
       "<matplotlib.text.Text at 0x2298c636320>"
      ]
     },
     "execution_count": 257,
     "metadata": {},
     "output_type": "execute_result"
    },
    {
     "data": {
      "image/png": "[encoded data removed]",
      "text/plain": [
       "<matplotlib.figure.Figure at 0x2298b0d27f0>"
      ]
     },
     "metadata": {},
     "output_type": "display_data"
    }
   ],
   "source": [
    "df_name_lower_comp_all.groupby('gv_indicator')['stat_max'].max().hist(bins=100)\n",
    "plt.title('Histogram of Max Fuzzy Statistic per paired indicator')"
   ]
  },
  {
   "cell_type": "code",
   "execution_count": 258,
   "metadata": {
    "ExecuteTime": {
     "end_time": "2017-07-04T19:10:34.233743Z",
     "start_time": "2017-07-04T19:10:33.839665Z"
    }
   },
   "outputs": [
    {
     "data": {
      "text/plain": [
       "<matplotlib.text.Text at 0x2298ad12cf8>"
      ]
     },
     "execution_count": 258,
     "metadata": {},
     "output_type": "execute_result"
    },
    {
     "data": {
      "image/png": "[encoded data removed]",
      "text/plain": [
       "<matplotlib.figure.Figure at 0x2298aecb550>"
      ]
     },
     "metadata": {},
     "output_type": "display_data"
    }
   ],
   "source": [
    "df_name_lower_comp_all.groupby('gv_indicator')['stat_min'].max().hist(bins=100)\n",
    "plt.title('Histogram of Min Fuzzy Statistic per paired indicator')"
   ]
  },
  {
   "cell_type": "markdown",
   "metadata": {},
   "source": [
    "# Generating Matched Indicator Shortlists\n",
    "## Automated Matching: Generate Top 1 High-accuracy Matched Indicators\n",
    "For high-accuracy match results, we automatically generate the top 1 matched indicator.\n",
    "\n",
    "Based on iterations to improve results, we choose the ff. cut off points using the ff. fuzzy statistics: ratio, partial ratio, token set ratio, token sort ratio\n",
    "- Get top match based on average fuzzy statistics.\n",
    "- Keep matches which satisfy all of the ff.:\n",
    "    - Average fuzzy statistics at least 80\n",
    "    - Minimum fuzzy statistic is at least 70"
   ]
  },
  {
   "cell_type": "code",
   "execution_count": 259,
   "metadata": {
    "ExecuteTime": {
     "end_time": "2017-07-04T19:10:34.874504Z",
     "start_time": "2017-07-04T19:10:34.235720Z"
    },
    "collapsed": true
   },
   "outputs": [],
   "source": [
    "df_name_lower_comp_fuzz_top1 = df_name_lower_comp_all.groupby('gv_indicator').apply(lambda x: x.sort_values(by='stat_mean', ascending=False).head(1)).reset_index(drop=True)\n",
    "df_name_lower_comp_fuzz_top1_filtered = df_name_lower_comp_fuzz_top1[(df_name_lower_comp_fuzz_top1['stat_mean'] >= 80) & (df_name_lower_comp_fuzz_top1['stat_min'] >= 70)].reset_index(drop=True).reset_index()"
   ]
  },
  {
   "cell_type": "code",
   "execution_count": 260,
   "metadata": {
    "ExecuteTime": {
     "end_time": "2017-07-04T19:10:34.889456Z",
     "start_time": "2017-07-04T19:10:34.876421Z"
    }
   },
   "outputs": [
    {
     "data": {
      "text/html": [
       "<div>\n",
       "<style>\n",
       "    .dataframe thead tr:only-child th {\n",
       "        text-align: right;\n",
       "    }\n",
       "\n",
       "    .dataframe thead th {\n",
       "        text-align: left;\n",
       "    }\n",
       "\n",
       "    .dataframe tbody tr th {\n",
       "        vertical-align: top;\n",
       "    }\n",
       "</style>\n",
       "<table border=\"1\" class=\"dataframe\">\n",
       "  <thead>\n",
       "    <tr style=\"text-align: right;\">\n",
       "      <th></th>\n",
       "      <th>source_dataset</th>\n",
       "    </tr>\n",
       "  </thead>\n",
       "  <tbody>\n",
       "    <tr>\n",
       "      <th>Bertelsmann Transformation Index</th>\n",
       "      <td>3</td>\n",
       "    </tr>\n",
       "    <tr>\n",
       "      <th>Doing Business</th>\n",
       "      <td>61</td>\n",
       "    </tr>\n",
       "    <tr>\n",
       "      <th>Enterprise Surveys</th>\n",
       "      <td>106</td>\n",
       "    </tr>\n",
       "    <tr>\n",
       "      <th>Women, Business and the Law</th>\n",
       "      <td>131</td>\n",
       "    </tr>\n",
       "    <tr>\n",
       "      <th>World Economic Forum Global Competitiveness Index</th>\n",
       "      <td>81</td>\n",
       "    </tr>\n",
       "    <tr>\n",
       "      <th>Worldwide Governance Indicators</th>\n",
       "      <td>3</td>\n",
       "    </tr>\n",
       "  </tbody>\n",
       "</table>\n",
       "</div>"
      ],
      "text/plain": [
       "                                                   source_dataset\n",
       "Bertelsmann Transformation Index                                3\n",
       "Doing Business                                                 61\n",
       "Enterprise Surveys                                            106\n",
       "Women, Business and the Law                                   131\n",
       "World Economic Forum Global Competitiveness Index              81\n",
       "Worldwide Governance Indicators                                 3"
      ]
     },
     "execution_count": 260,
     "metadata": {},
     "output_type": "execute_result"
    }
   ],
   "source": [
    "pd.DataFrame(df_name_lower_comp_fuzz_top1_filtered['source_dataset'].value_counts().sort_index())"
   ]
  },
  {
   "cell_type": "code",
   "execution_count": 261,
   "metadata": {
    "ExecuteTime": {
     "end_time": "2017-07-04T19:10:34.912524Z",
     "start_time": "2017-07-04T19:10:34.893467Z"
    }
   },
   "outputs": [
    {
     "data": {
      "text/plain": [
       "(385, 11)"
      ]
     },
     "execution_count": 261,
     "metadata": {},
     "output_type": "execute_result"
    }
   ],
   "source": [
    "df_name_lower_comp_fuzz_top1_filtered.shape"
   ]
  },
  {
   "cell_type": "code",
   "execution_count": 262,
   "metadata": {
    "ExecuteTime": {
     "end_time": "2017-07-04T19:10:34.936581Z",
     "start_time": "2017-07-04T19:10:34.915526Z"
    },
    "collapsed": true
   },
   "outputs": [],
   "source": [
    "df_name_lower_comp_fuzz_top1_filtered.to_csv(\"%s-TC-Gov_High-Accuracy_Automatic-Matched-Indicators.csv\" % (date_today), index=False)"
   ]
  },
  {
   "cell_type": "markdown",
   "metadata": {
    "ExecuteTime": {
     "end_time": "2017-07-04T18:03:33.620315Z",
     "start_time": "2017-07-04T18:03:33.615269Z"
    }
   },
   "source": [
    "Merge Top 1 High-accuracy list with full indicator data."
   ]
  },
  {
   "cell_type": "code",
   "execution_count": 276,
   "metadata": {
    "ExecuteTime": {
     "end_time": "2017-07-04T19:14:08.930345Z",
     "start_time": "2017-07-04T19:14:08.893215Z"
    },
    "collapsed": true
   },
   "outputs": [],
   "source": [
    "df_name_lower_comp_fuzz_top1_filtered_short = df_name_lower_comp_fuzz_top1_filtered[['index', 'gv_indicator', 'tc_indicator', 'source_dataset']]\n",
    "tc_shortlist_fuzz = tc_indicators.merge(df_name_lower_comp_fuzz_top1_filtered_short, how='inner', left_on=['name_lower', 'dataset'], right_on=['tc_indicator', 'source_dataset']).drop(['source_dataset', 'tc_indicator','gv_indicator'], axis=1)\n",
    "gv_shortlist_fuzz = gv_indicators.replace({'dataset': {'Global Competitiveness Index': 'World Economic Forum Global Competitiveness Index'}}).merge(df_name_lower_comp_fuzz_top1_filtered_short, how='inner', left_on=['name_lower', 'dataset'], right_on=['gv_indicator', 'source_dataset']).drop(['source_dataset', 'tc_indicator','gv_indicator'], axis=1)\n",
    "\n",
    "merged_shortlist_fuzz = tc_shortlist_fuzz.merge(gv_shortlist_fuzz, how='inner', on=['index'], suffixes = ('_tc', '_gv'))\n",
    "merged_shortlist_fuzz = merged_shortlist_fuzz.merge(df_name_lower_comp_fuzz_top1_filtered, on='index')"
   ]
  },
  {
   "cell_type": "code",
   "execution_count": 277,
   "metadata": {
    "ExecuteTime": {
     "end_time": "2017-07-04T19:14:09.288672Z",
     "start_time": "2017-07-04T19:14:09.236509Z"
    },
    "collapsed": true
   },
   "outputs": [],
   "source": [
    "merged_shortlist_fuzz.to_csv(\"%s-TC-Gov_High-Accuracy_Automatic-Matched-Indicators_complete.csv\" % (date_today), index=False)"
   ]
  },
  {
   "cell_type": "markdown",
   "metadata": {},
   "source": [
    "## Semi-automated Matching: Generate Possible Matches Shortlist for Low-Accuracy Matched Indicators\n",
    "For low-accuracy match results, we generate the top 5 matches per fuzzy statistic (which gives at most 20 matches per Govdata360 indicator).\n",
    " \n",
    "The user can then manually pick the best match from this shortlist. To make manual search easier, we only keep all unique suggested matches and sort unique results based on score."
   ]
  },
  {
   "cell_type": "code",
   "execution_count": 265,
   "metadata": {
    "ExecuteTime": {
     "end_time": "2017-07-04T19:10:35.038857Z",
     "start_time": "2017-07-04T19:10:35.029838Z"
    },
    "collapsed": true
   },
   "outputs": [],
   "source": [
    "df_name_lower_comp_fuzz_low_acc = df_name_lower_comp_fuzz_top1[~((df_name_lower_comp_fuzz_top1['stat_mean'] >= 80) & (df_name_lower_comp_fuzz_top1['stat_min'] >= 70))][['gv_indicator', 'source_dataset']]"
   ]
  },
  {
   "cell_type": "code",
   "execution_count": 266,
   "metadata": {
    "ExecuteTime": {
     "end_time": "2017-07-04T19:10:48.124783Z",
     "start_time": "2017-07-04T19:10:35.042865Z"
    },
    "collapsed": true
   },
   "outputs": [],
   "source": [
    "df_name_lower_comp_all_choices = pd.DataFrame()\n",
    "df_cols = ['gv_indicator', 'source_dataset', 'ratio1', 'ratio2', 'ratio3', 'token_sort1', 'token_sort2', 'token_sort3']\n",
    "\n",
    "for dataset in common_datasets:\n",
    "    tc_list = list(set(tc_indicators[tc_indicators['dataset'].isin(dataset)]['name_lower']))\n",
    "    gv_list = list(set(df_name_lower_comp_fuzz_low_acc[df_name_lower_comp_fuzz_low_acc['source_dataset'].isin(dataset)]['gv_indicator']))\n",
    "\n",
    "    name_lower_comparison_fuzz = []\n",
    "    for gv_ind in gv_list:\n",
    "        for val in process.extract(gv_ind, tc_list, scorer=fuzz.ratio, limit=5):\n",
    "            name_lower_comparison_fuzz.append([gv_ind, val[0], val[1], dataset[0]])\n",
    "        for val in process.extract(gv_ind, tc_list, scorer=fuzz.partial_ratio, limit=5):\n",
    "            name_lower_comparison_fuzz.append([gv_ind, val[0], val[1], dataset[0]])\n",
    "        for val in process.extract(gv_ind, tc_list, scorer=fuzz.token_set_ratio, limit=5):\n",
    "            name_lower_comparison_fuzz.append([gv_ind, val[0], val[1], dataset[0]])\n",
    "        for val in process.extract(gv_ind, tc_list, scorer=fuzz.token_sort_ratio, limit=5):\n",
    "            name_lower_comparison_fuzz.append([gv_ind, val[0], val[1], dataset[0]])\n",
    "        \n",
    "    df_name_lower_comparison_fuzz = pd.DataFrame(name_lower_comparison_fuzz, columns = ['gv_indicator', 'tc_indicator','match_score', 'source_dataset'])\n",
    "    df_name_lower_comparison_fuzz.drop_duplicates(subset = ['gv_indicator', 'tc_indicator', 'source_dataset'], inplace=True)\n",
    "    df_name_lower_comparison_fuzz.sort_values(by='match_score', ascending=False)\n",
    "    df_name_lower_comp_all_choices = df_name_lower_comp_all_choices.append(df_name_lower_comparison_fuzz)\n",
    "\n",
    "df_name_lower_comp_all_choices.reset_index(inplace=True, drop=True)"
   ]
  },
  {
   "cell_type": "code",
   "execution_count": 267,
   "metadata": {
    "ExecuteTime": {
     "end_time": "2017-07-04T19:10:48.150707Z",
     "start_time": "2017-07-04T19:10:48.127642Z"
    },
    "collapsed": true
   },
   "outputs": [],
   "source": [
    "df_name_lower_comp_all_choices['match?'] = np.nan\n",
    "df_name_lower_comp_all_choices = df_name_lower_comp_all_choices[['gv_indicator', 'tc_indicator','match?', 'match_score', 'source_dataset']]\n",
    "df_name_lower_comp_all_choices.to_csv(\"%s-TC-Gov_Low-Accuracy_Semi-Automatic-Matched-Indicators-Choices.csv\" % (date_today), index=False)"
   ]
  },
  {
   "cell_type": "markdown",
   "metadata": {},
   "source": [
    "We import the filled-out CSV with manual matching."
   ]
  },
  {
   "cell_type": "code",
   "execution_count": 268,
   "metadata": {
    "ExecuteTime": {
     "end_time": "2017-07-04T19:10:48.168750Z",
     "start_time": "2017-07-04T19:10:48.153712Z"
    },
    "collapsed": true
   },
   "outputs": [],
   "source": [
    "df_manual_matching = pd.read_csv(\"2017-07-05-TC-Gov_Low-Accuracy_Semi-Automatic-Matched-Indicators-Choices_with-manual-matching.csv\")\n",
    "df_manual_matching = df_manual_matching[df_manual_matching['match?'] == 1.0].reset_index(drop=True).reset_index()"
   ]
  },
  {
   "cell_type": "code",
   "execution_count": 269,
   "metadata": {
    "ExecuteTime": {
     "end_time": "2017-07-04T19:10:48.187802Z",
     "start_time": "2017-07-04T19:10:48.171760Z"
    }
   },
   "outputs": [
    {
     "data": {
      "text/html": [
       "<div>\n",
       "<style>\n",
       "    .dataframe thead tr:only-child th {\n",
       "        text-align: right;\n",
       "    }\n",
       "\n",
       "    .dataframe thead th {\n",
       "        text-align: left;\n",
       "    }\n",
       "\n",
       "    .dataframe tbody tr th {\n",
       "        vertical-align: top;\n",
       "    }\n",
       "</style>\n",
       "<table border=\"1\" class=\"dataframe\">\n",
       "  <thead>\n",
       "    <tr style=\"text-align: right;\">\n",
       "      <th></th>\n",
       "      <th>index</th>\n",
       "      <th>gv_indicator</th>\n",
       "      <th>tc_indicator</th>\n",
       "      <th>match?</th>\n",
       "      <th>match_score</th>\n",
       "      <th>source_dataset</th>\n",
       "    </tr>\n",
       "  </thead>\n",
       "  <tbody>\n",
       "    <tr>\n",
       "      <th>0</th>\n",
       "      <td>0</td>\n",
       "      <td>starting a business  procedure  women number</td>\n",
       "      <td>procedures to start a business number</td>\n",
       "      <td>1.0</td>\n",
       "      <td>57</td>\n",
       "      <td>Doing Business</td>\n",
       "    </tr>\n",
       "    <tr>\n",
       "      <th>1</th>\n",
       "      <td>1</td>\n",
       "      <td>paying taxes  payments number per year</td>\n",
       "      <td>tax payments numberperyear</td>\n",
       "      <td>1.0</td>\n",
       "      <td>81</td>\n",
       "      <td>Doing Business</td>\n",
       "    </tr>\n",
       "    <tr>\n",
       "      <th>2</th>\n",
       "      <td>2</td>\n",
       "      <td>getting credit  depth of credit information in...</td>\n",
       "      <td>depth of credit information index 08</td>\n",
       "      <td>1.0</td>\n",
       "      <td>67</td>\n",
       "      <td>Doing Business</td>\n",
       "    </tr>\n",
       "    <tr>\n",
       "      <th>3</th>\n",
       "      <td>3</td>\n",
       "      <td>protecting minority investors  extent of share...</td>\n",
       "      <td>extent of shareholder governance index 010</td>\n",
       "      <td>1.0</td>\n",
       "      <td>59</td>\n",
       "      <td>Doing Business</td>\n",
       "    </tr>\n",
       "    <tr>\n",
       "      <th>4</th>\n",
       "      <td>4</td>\n",
       "      <td>starting a business  time  women days</td>\n",
       "      <td>time to start a business days</td>\n",
       "      <td>1.0</td>\n",
       "      <td>64</td>\n",
       "      <td>Doing Business</td>\n",
       "    </tr>\n",
       "  </tbody>\n",
       "</table>\n",
       "</div>"
      ],
      "text/plain": [
       "   index                                       gv_indicator  \\\n",
       "0      0       starting a business  procedure  women number   \n",
       "1      1             paying taxes  payments number per year   \n",
       "2      2  getting credit  depth of credit information in...   \n",
       "3      3  protecting minority investors  extent of share...   \n",
       "4      4              starting a business  time  women days   \n",
       "\n",
       "                                 tc_indicator  match?  match_score  \\\n",
       "0       procedures to start a business number     1.0           57   \n",
       "1                  tax payments numberperyear     1.0           81   \n",
       "2        depth of credit information index 08     1.0           67   \n",
       "3  extent of shareholder governance index 010     1.0           59   \n",
       "4               time to start a business days     1.0           64   \n",
       "\n",
       "   source_dataset  \n",
       "0  Doing Business  \n",
       "1  Doing Business  \n",
       "2  Doing Business  \n",
       "3  Doing Business  \n",
       "4  Doing Business  "
      ]
     },
     "execution_count": 269,
     "metadata": {},
     "output_type": "execute_result"
    }
   ],
   "source": [
    "df_manual_matching.head()"
   ]
  },
  {
   "cell_type": "code",
   "execution_count": 273,
   "metadata": {
    "ExecuteTime": {
     "end_time": "2017-07-04T19:14:01.647397Z",
     "start_time": "2017-07-04T19:14:01.616288Z"
    },
    "collapsed": true
   },
   "outputs": [],
   "source": [
    "df_manual_matching_matches = df_manual_matching[['index', 'gv_indicator', 'tc_indicator', 'source_dataset']]\n",
    "tc_shortlist_fuzz = tc_indicators.merge(df_manual_matching_matches, how='inner', left_on=['name_lower', 'dataset'], right_on=['tc_indicator', 'source_dataset']).drop(['source_dataset', 'tc_indicator','gv_indicator'], axis=1)\n",
    "gv_shortlist_fuzz = gv_indicators.replace({'dataset': {'Global Competitiveness Index': 'World Economic Forum Global Competitiveness Index'}}).merge(df_manual_matching_matches, how='inner', left_on=['name_lower', 'dataset'], right_on=['gv_indicator', 'source_dataset']).drop(['source_dataset', 'tc_indicator','gv_indicator'], axis=1)\n",
    "\n",
    "merged_shortlist_fuzz_manual = tc_shortlist_fuzz.merge(gv_shortlist_fuzz, how='inner', on=['index'], suffixes = ('_tc', '_gv'))\n",
    "merged_shortlist_fuzz_manual = merged_shortlist_fuzz_manual.merge(df_manual_matching_matches, on='index')"
   ]
  },
  {
   "cell_type": "code",
   "execution_count": 274,
   "metadata": {
    "ExecuteTime": {
     "end_time": "2017-07-04T19:14:01.889340Z",
     "start_time": "2017-07-04T19:14:01.854241Z"
    }
   },
   "outputs": [
    {
     "data": {
      "text/html": [
       "<div>\n",
       "<style>\n",
       "    .dataframe thead tr:only-child th {\n",
       "        text-align: right;\n",
       "    }\n",
       "\n",
       "    .dataframe thead th {\n",
       "        text-align: left;\n",
       "    }\n",
       "\n",
       "    .dataframe tbody tr th {\n",
       "        vertical-align: top;\n",
       "    }\n",
       "</style>\n",
       "<table border=\"1\" class=\"dataframe\">\n",
       "  <thead>\n",
       "    <tr style=\"text-align: right;\">\n",
       "      <th></th>\n",
       "      <th>byPartner_tc</th>\n",
       "      <th>byProduct_tc</th>\n",
       "      <th>dataset_tc</th>\n",
       "      <th>datasetId_tc</th>\n",
       "      <th>dateRange_tc</th>\n",
       "      <th>defaultViz_tc</th>\n",
       "      <th>definition_tc</th>\n",
       "      <th>doNotUseViz_tc</th>\n",
       "      <th>id_tc</th>\n",
       "      <th>name_tc</th>\n",
       "      <th>...</th>\n",
       "      <th>periodicity_gv</th>\n",
       "      <th>rank_gv</th>\n",
       "      <th>subindicatorType_gv</th>\n",
       "      <th>timeframes_gv</th>\n",
       "      <th>units_gv</th>\n",
       "      <th>valueType_gv</th>\n",
       "      <th>name_lower_gv</th>\n",
       "      <th>gv_indicator</th>\n",
       "      <th>tc_indicator</th>\n",
       "      <th>source_dataset</th>\n",
       "    </tr>\n",
       "  </thead>\n",
       "  <tbody>\n",
       "    <tr>\n",
       "      <th>0</th>\n",
       "      <td>False</td>\n",
       "      <td>False</td>\n",
       "      <td>Doing Business</td>\n",
       "      <td>52</td>\n",
       "      <td>2004-2017</td>\n",
       "      <td>line_chart</td>\n",
       "      <td>Time is recorded in calendar days. The measure...</td>\n",
       "      <td>[spider_chart, slope_graph, chord_diagram]</td>\n",
       "      <td>459</td>\n",
       "      <td>Time to start a business (days)</td>\n",
       "      <td>...</td>\n",
       "      <td>annually</td>\n",
       "      <td>4.086</td>\n",
       "      <td>Total</td>\n",
       "      <td>[2004, 2005, 2006, 2007, 2008, 2009, 2010, 201...</td>\n",
       "      <td>Count</td>\n",
       "      <td>Total</td>\n",
       "      <td>starting a business  time  women days</td>\n",
       "      <td>starting a business  time  women days</td>\n",
       "      <td>time to start a business days</td>\n",
       "      <td>Doing Business</td>\n",
       "    </tr>\n",
       "    <tr>\n",
       "      <th>1</th>\n",
       "      <td>False</td>\n",
       "      <td>False</td>\n",
       "      <td>Enterprise Surveys</td>\n",
       "      <td>49</td>\n",
       "      <td>2005-2016</td>\n",
       "      <td>line_chart</td>\n",
       "      <td>Percentage of firms identifying business licen...</td>\n",
       "      <td>[spider_chart, slope_graph, chord_diagram]</td>\n",
       "      <td>308</td>\n",
       "      <td>% of firms identifying business licensing and ...</td>\n",
       "      <td>...</td>\n",
       "      <td>annually</td>\n",
       "      <td>2.060</td>\n",
       "      <td>Total</td>\n",
       "      <td>[2006, 2007, 2008, 2009, 2010, 2011, 2012, 201...</td>\n",
       "      <td>Count</td>\n",
       "      <td>Total</td>\n",
       "      <td>business licensing and permits</td>\n",
       "      <td>business licensing and permits</td>\n",
       "      <td>percent of firms identifying business licensin...</td>\n",
       "      <td>Enterprise Surveys</td>\n",
       "    </tr>\n",
       "    <tr>\n",
       "      <th>2</th>\n",
       "      <td>False</td>\n",
       "      <td>False</td>\n",
       "      <td>Doing Business</td>\n",
       "      <td>52</td>\n",
       "      <td>2014-2017</td>\n",
       "      <td>line_chart</td>\n",
       "      <td>The rules and practices affecting the coverage...</td>\n",
       "      <td>[spider_chart, slope_graph, chord_diagram]</td>\n",
       "      <td>444</td>\n",
       "      <td>Depth of credit information index (0-8)</td>\n",
       "      <td>...</td>\n",
       "      <td>annually</td>\n",
       "      <td>4.309</td>\n",
       "      <td>Total</td>\n",
       "      <td>[2005, 2006, 2007, 2008, 2009, 2010, 2011, 201...</td>\n",
       "      <td>Count</td>\n",
       "      <td>Total</td>\n",
       "      <td>getting credit  depth of credit information in...</td>\n",
       "      <td>getting credit  depth of credit information in...</td>\n",
       "      <td>depth of credit information index 08</td>\n",
       "      <td>Doing Business</td>\n",
       "    </tr>\n",
       "    <tr>\n",
       "      <th>3</th>\n",
       "      <td>False</td>\n",
       "      <td>False</td>\n",
       "      <td>Doing Business</td>\n",
       "      <td>52</td>\n",
       "      <td>2016-2017</td>\n",
       "      <td>line_chart</td>\n",
       "      <td>The quality of judicial processes index measur...</td>\n",
       "      <td>[spider_chart, slope_graph, chord_diagram]</td>\n",
       "      <td>478</td>\n",
       "      <td>Quality of judicial processes to enforce contr...</td>\n",
       "      <td>...</td>\n",
       "      <td>once</td>\n",
       "      <td>4.258</td>\n",
       "      <td>Total</td>\n",
       "      <td>[2016]</td>\n",
       "      <td>Count</td>\n",
       "      <td>Total</td>\n",
       "      <td>enforcing contracts  quality of judicial proce...</td>\n",
       "      <td>enforcing contracts  quality of judicial proce...</td>\n",
       "      <td>quality of judicial processes to enforce contr...</td>\n",
       "      <td>Doing Business</td>\n",
       "    </tr>\n",
       "    <tr>\n",
       "      <th>4</th>\n",
       "      <td>False</td>\n",
       "      <td>False</td>\n",
       "      <td>Worldwide Governance Indicators</td>\n",
       "      <td>51</td>\n",
       "      <td>1996-2015</td>\n",
       "      <td>line_chart</td>\n",
       "      <td>Perceptions of the likelihood of political ins...</td>\n",
       "      <td>[spider_chart, slope_graph, chord_diagram]</td>\n",
       "      <td>376</td>\n",
       "      <td>Political stability score (-2.5 to 2.5)</td>\n",
       "      <td>...</td>\n",
       "      <td>annually</td>\n",
       "      <td>1.020</td>\n",
       "      <td>Upper</td>\n",
       "      <td>[1996, 1998, 2000, 2002, 2003, 2004, 2005, 200...</td>\n",
       "      <td>Yes/No</td>\n",
       "      <td>Upper</td>\n",
       "      <td>political stability no violence</td>\n",
       "      <td>political stability no violence</td>\n",
       "      <td>political stability score 25 to 25</td>\n",
       "      <td>Worldwide Governance Indicators</td>\n",
       "    </tr>\n",
       "  </tbody>\n",
       "</table>\n",
       "<p>5 rows × 38 columns</p>\n",
       "</div>"
      ],
      "text/plain": [
       "   byPartner_tc  byProduct_tc                       dataset_tc  datasetId_tc  \\\n",
       "0         False         False                   Doing Business            52   \n",
       "1         False         False               Enterprise Surveys            49   \n",
       "2         False         False                   Doing Business            52   \n",
       "3         False         False                   Doing Business            52   \n",
       "4         False         False  Worldwide Governance Indicators            51   \n",
       "\n",
       "  dateRange_tc defaultViz_tc  \\\n",
       "0    2004-2017    line_chart   \n",
       "1    2005-2016    line_chart   \n",
       "2    2014-2017    line_chart   \n",
       "3    2016-2017    line_chart   \n",
       "4    1996-2015    line_chart   \n",
       "\n",
       "                                       definition_tc  \\\n",
       "0  Time is recorded in calendar days. The measure...   \n",
       "1  Percentage of firms identifying business licen...   \n",
       "2  The rules and practices affecting the coverage...   \n",
       "3  The quality of judicial processes index measur...   \n",
       "4  Perceptions of the likelihood of political ins...   \n",
       "\n",
       "                               doNotUseViz_tc  id_tc  \\\n",
       "0  [spider_chart, slope_graph, chord_diagram]    459   \n",
       "1  [spider_chart, slope_graph, chord_diagram]    308   \n",
       "2  [spider_chart, slope_graph, chord_diagram]    444   \n",
       "3  [spider_chart, slope_graph, chord_diagram]    478   \n",
       "4  [spider_chart, slope_graph, chord_diagram]    376   \n",
       "\n",
       "                                             name_tc  \\\n",
       "0                    Time to start a business (days)   \n",
       "1  % of firms identifying business licensing and ...   \n",
       "2            Depth of credit information index (0-8)   \n",
       "3  Quality of judicial processes to enforce contr...   \n",
       "4            Political stability score (-2.5 to 2.5)   \n",
       "\n",
       "                ...                periodicity_gv  rank_gv  \\\n",
       "0               ...                      annually    4.086   \n",
       "1               ...                      annually    2.060   \n",
       "2               ...                      annually    4.309   \n",
       "3               ...                          once    4.258   \n",
       "4               ...                      annually    1.020   \n",
       "\n",
       "  subindicatorType_gv                                      timeframes_gv  \\\n",
       "0               Total  [2004, 2005, 2006, 2007, 2008, 2009, 2010, 201...   \n",
       "1               Total  [2006, 2007, 2008, 2009, 2010, 2011, 2012, 201...   \n",
       "2               Total  [2005, 2006, 2007, 2008, 2009, 2010, 2011, 201...   \n",
       "3               Total                                             [2016]   \n",
       "4               Upper  [1996, 1998, 2000, 2002, 2003, 2004, 2005, 200...   \n",
       "\n",
       "  units_gv valueType_gv                                      name_lower_gv  \\\n",
       "0    Count        Total              starting a business  time  women days   \n",
       "1    Count        Total                     business licensing and permits   \n",
       "2    Count        Total  getting credit  depth of credit information in...   \n",
       "3    Count        Total  enforcing contracts  quality of judicial proce...   \n",
       "4   Yes/No        Upper                    political stability no violence   \n",
       "\n",
       "                                        gv_indicator  \\\n",
       "0              starting a business  time  women days   \n",
       "1                     business licensing and permits   \n",
       "2  getting credit  depth of credit information in...   \n",
       "3  enforcing contracts  quality of judicial proce...   \n",
       "4                    political stability no violence   \n",
       "\n",
       "                                        tc_indicator  \\\n",
       "0                      time to start a business days   \n",
       "1  percent of firms identifying business licensin...   \n",
       "2               depth of credit information index 08   \n",
       "3  quality of judicial processes to enforce contr...   \n",
       "4                 political stability score 25 to 25   \n",
       "\n",
       "                    source_dataset  \n",
       "0                   Doing Business  \n",
       "1               Enterprise Surveys  \n",
       "2                   Doing Business  \n",
       "3                   Doing Business  \n",
       "4  Worldwide Governance Indicators  \n",
       "\n",
       "[5 rows x 38 columns]"
      ]
     },
     "execution_count": 274,
     "metadata": {},
     "output_type": "execute_result"
    }
   ],
   "source": [
    "merged_shortlist_fuzz_manual.head()"
   ]
  },
  {
   "cell_type": "code",
   "execution_count": 275,
   "metadata": {
    "ExecuteTime": {
     "end_time": "2017-07-04T19:14:05.115059Z",
     "start_time": "2017-07-04T19:14:05.100006Z"
    },
    "collapsed": true
   },
   "outputs": [],
   "source": [
    "merged_shortlist_fuzz_manual.to_csv(\"%s-TC-Gov_High-Accuracy_Automatic-Matched-Indicators_complete.csv\" % (date_today), index=False)"
   ]
  },
  {
   "cell_type": "code",
   "execution_count": 278,
   "metadata": {
    "ExecuteTime": {
     "end_time": "2017-07-04T19:14:16.839471Z",
     "start_time": "2017-07-04T19:14:16.834429Z"
    }
   },
   "outputs": [
    {
     "data": {
      "text/plain": [
       "((506, 45), (45, 38))"
      ]
     },
     "execution_count": 278,
     "metadata": {},
     "output_type": "execute_result"
    }
   ],
   "source": [
    "merged_shortlist_fuzz.shape, merged_shortlist_fuzz_manual.shape"
   ]
  },
  {
   "cell_type": "markdown",
   "metadata": {},
   "source": [
    "## Merging Automated and Semi-Automated Matches"
   ]
  },
  {
   "cell_type": "code",
   "execution_count": 286,
   "metadata": {
    "ExecuteTime": {
     "end_time": "2017-07-04T19:15:49.818312Z",
     "start_time": "2017-07-04T19:15:49.814326Z"
    },
    "collapsed": true
   },
   "outputs": [],
   "source": [
    "merged_shortlist_fuzz['match_type'] = 'automatic_high-accuracy'\n",
    "merged_shortlist_fuzz_manual['match_type'] = 'semi-automatic_low-accuracy'"
   ]
  },
  {
   "cell_type": "code",
   "execution_count": 287,
   "metadata": {
    "ExecuteTime": {
     "end_time": "2017-07-04T19:15:50.266438Z",
     "start_time": "2017-07-04T19:15:50.251398Z"
    },
    "collapsed": true
   },
   "outputs": [],
   "source": [
    "df_final_matched = merged_shortlist_fuzz.append(merged_shortlist_fuzz_manual)"
   ]
  },
  {
   "cell_type": "code",
   "execution_count": 295,
   "metadata": {
    "ExecuteTime": {
     "end_time": "2017-07-04T19:20:06.479582Z",
     "start_time": "2017-07-04T19:20:06.473534Z"
    }
   },
   "outputs": [
    {
     "data": {
      "text/plain": [
       "(551, 46)"
      ]
     },
     "execution_count": 295,
     "metadata": {},
     "output_type": "execute_result"
    }
   ],
   "source": [
    "df_final_matched.shape"
   ]
  },
  {
   "cell_type": "code",
   "execution_count": 293,
   "metadata": {
    "ExecuteTime": {
     "end_time": "2017-07-04T19:16:33.692889Z",
     "start_time": "2017-07-04T19:16:33.680875Z"
    }
   },
   "outputs": [
    {
     "data": {
      "text/html": [
       "<div>\n",
       "<style>\n",
       "    .dataframe thead tr:only-child th {\n",
       "        text-align: right;\n",
       "    }\n",
       "\n",
       "    .dataframe thead th {\n",
       "        text-align: left;\n",
       "    }\n",
       "\n",
       "    .dataframe tbody tr th {\n",
       "        vertical-align: top;\n",
       "    }\n",
       "</style>\n",
       "<table border=\"1\" class=\"dataframe\">\n",
       "  <thead>\n",
       "    <tr style=\"text-align: right;\">\n",
       "      <th>match_type</th>\n",
       "      <th>automatic_high-accuracy</th>\n",
       "      <th>semi-automatic_low-accuracy</th>\n",
       "    </tr>\n",
       "    <tr>\n",
       "      <th>source_dataset</th>\n",
       "      <th></th>\n",
       "      <th></th>\n",
       "    </tr>\n",
       "  </thead>\n",
       "  <tbody>\n",
       "    <tr>\n",
       "      <th>Bertelsmann Transformation Index</th>\n",
       "      <td>3.0</td>\n",
       "      <td>0.0</td>\n",
       "    </tr>\n",
       "    <tr>\n",
       "      <th>Doing Business</th>\n",
       "      <td>88.0</td>\n",
       "      <td>17.0</td>\n",
       "    </tr>\n",
       "    <tr>\n",
       "      <th>Enterprise Surveys</th>\n",
       "      <td>106.0</td>\n",
       "      <td>10.0</td>\n",
       "    </tr>\n",
       "    <tr>\n",
       "      <th>Women, Business and the Law</th>\n",
       "      <td>132.0</td>\n",
       "      <td>0.0</td>\n",
       "    </tr>\n",
       "    <tr>\n",
       "      <th>World Economic Forum Global Competitiveness Index</th>\n",
       "      <td>162.0</td>\n",
       "      <td>8.0</td>\n",
       "    </tr>\n",
       "    <tr>\n",
       "      <th>Worldwide Governance Indicators</th>\n",
       "      <td>15.0</td>\n",
       "      <td>10.0</td>\n",
       "    </tr>\n",
       "  </tbody>\n",
       "</table>\n",
       "</div>"
      ],
      "text/plain": [
       "match_type                                         automatic_high-accuracy  \\\n",
       "source_dataset                                                               \n",
       "Bertelsmann Transformation Index                                       3.0   \n",
       "Doing Business                                                        88.0   \n",
       "Enterprise Surveys                                                   106.0   \n",
       "Women, Business and the Law                                          132.0   \n",
       "World Economic Forum Global Competitiveness Index                    162.0   \n",
       "Worldwide Governance Indicators                                       15.0   \n",
       "\n",
       "match_type                                         semi-automatic_low-accuracy  \n",
       "source_dataset                                                                  \n",
       "Bertelsmann Transformation Index                                           0.0  \n",
       "Doing Business                                                            17.0  \n",
       "Enterprise Surveys                                                        10.0  \n",
       "Women, Business and the Law                                                0.0  \n",
       "World Economic Forum Global Competitiveness Index                          8.0  \n",
       "Worldwide Governance Indicators                                           10.0  "
      ]
     },
     "execution_count": 293,
     "metadata": {},
     "output_type": "execute_result"
    }
   ],
   "source": [
    "df_final_matched.groupby(['match_type'])['source_dataset'].value_counts().unstack(level=0).fillna(0)"
   ]
  },
  {
   "cell_type": "code",
   "execution_count": 294,
   "metadata": {
    "ExecuteTime": {
     "end_time": "2017-07-04T19:17:39.306444Z",
     "start_time": "2017-07-04T19:17:39.265308Z"
    },
    "collapsed": true
   },
   "outputs": [],
   "source": [
    "df_final_matched.to_csv(\"%s-TC-Gov_Full-Matched-Indicators_complete.csv\" % (date_today), index=False)"
   ]
  },
  {
   "cell_type": "markdown",
   "metadata": {},
   "source": [
    "## Cleaning matches based on indicator type & Keeping key columns"
   ]
  },
  {
   "cell_type": "code",
   "execution_count": 3,
   "metadata": {
    "ExecuteTime": {
     "end_time": "2017-07-05T09:43:24.397169Z",
     "start_time": "2017-07-05T09:43:24.379122Z"
    },
    "collapsed": true
   },
   "outputs": [],
   "source": [
    "# df_final_matched = pd.read_csv(\"%s-TC-Gov_Full-Matched-Indicators_complete.csv\" % (date_today))"
   ]
  },
  {
   "cell_type": "code",
   "execution_count": 57,
   "metadata": {
    "ExecuteTime": {
     "end_time": "2017-07-05T10:02:20.805645Z",
     "start_time": "2017-07-05T10:02:20.790607Z"
    }
   },
   "outputs": [
    {
     "data": {
      "text/plain": [
       "Total                  2789\n",
       "Value                   107\n",
       "Public                  106\n",
       "Percentage of women      74\n",
       "a                        12\n",
       "b                        11\n",
       "c                        10\n",
       "d                         8\n",
       "Wages                     7\n",
       "Upper                     6\n",
       "Employment                6\n",
       "e                         5\n",
       "Final                     4\n",
       "f                         3\n",
       "BBR_year                  1\n",
       "DR_chgyr                  1\n",
       "monitor_s_DR              1\n",
       "legal_n_BBR               1\n",
       "cover_n_DR                1\n",
       "escap_s_DR                1\n",
       "Managing_11               1\n",
       "i                         1\n",
       "Appraisal_2               1\n",
       "Rank                      1\n",
       "Appraisal_1               1\n",
       "ER_year                   1\n",
       "stab_s                    1\n",
       "BBR                       1\n",
       "cover_n_BBR               1\n",
       "cover_n_ER                1\n",
       "                       ... \n",
       "monitor_n_ER              1\n",
       "enforce_n_BBR             1\n",
       "enforce_n_DR              1\n",
       "legal_s_DR                1\n",
       "RR_year                   1\n",
       "escap_n_ER                1\n",
       "Selection_5               1\n",
       "BBR_supra                 1\n",
       "suport_ceil_n_i           1\n",
       "legal_n_RR                1\n",
       "RR_chgyr                  1\n",
       "g                         1\n",
       "RR_supra                  1\n",
       "legal_n_DR                1\n",
       "Appraisal_3               1\n",
       "Selection_7               1\n",
       "Selection_6               1\n",
       "Appraisal_4               1\n",
       "Managing_10               1\n",
       "suport_budg_n             1\n",
       "Managing_14               1\n",
       "cover_s_BBR               1\n",
       "Managing_12               1\n",
       "escap_s_BBR               1\n",
       "enforce_n_RR              1\n",
       "DR_year                   1\n",
       "nrule                     1\n",
       "monitor_n_RR              1\n",
       "escap_s_ER                1\n",
       "escap_n_BBR               1\n",
       "Name: valueType, Length: 96, dtype: int64"
      ]
     },
     "execution_count": 57,
     "metadata": {},
     "output_type": "execute_result"
    }
   ],
   "source": [
    "gv_indicators['valueType'].value_counts()"
   ]
  },
  {
   "cell_type": "code",
   "execution_count": 56,
   "metadata": {
    "ExecuteTime": {
     "end_time": "2017-07-05T10:02:08.550454Z",
     "start_time": "2017-07-05T10:02:08.540399Z"
    }
   },
   "outputs": [
    {
     "data": {
      "text/plain": [
       "Total                  2789\n",
       "Value                   107\n",
       "Public                  106\n",
       "Percentage of women      74\n",
       "a                        12\n",
       "b                        11\n",
       "c                        10\n",
       "d                         8\n",
       "Wages                     7\n",
       "Upper                     6\n",
       "Employment                6\n",
       "e                         5\n",
       "Final                     4\n",
       "f                         3\n",
       "BBR_year                  1\n",
       "DR_chgyr                  1\n",
       "monitor_s_DR              1\n",
       "legal_n_BBR               1\n",
       "cover_n_DR                1\n",
       "escap_s_DR                1\n",
       "Managing_11               1\n",
       "i                         1\n",
       "Appraisal_2               1\n",
       "Rank                      1\n",
       "Appraisal_1               1\n",
       "ER_year                   1\n",
       "stab_s                    1\n",
       "BBR                       1\n",
       "cover_n_BBR               1\n",
       "cover_n_ER                1\n",
       "                       ... \n",
       "monitor_n_ER              1\n",
       "enforce_n_BBR             1\n",
       "enforce_n_DR              1\n",
       "legal_s_DR                1\n",
       "RR_year                   1\n",
       "escap_n_ER                1\n",
       "Selection_5               1\n",
       "BBR_supra                 1\n",
       "suport_ceil_n_i           1\n",
       "legal_n_RR                1\n",
       "RR_chgyr                  1\n",
       "g                         1\n",
       "RR_supra                  1\n",
       "legal_n_DR                1\n",
       "Appraisal_3               1\n",
       "Selection_7               1\n",
       "Selection_6               1\n",
       "Appraisal_4               1\n",
       "Managing_10               1\n",
       "suport_budg_n             1\n",
       "Managing_14               1\n",
       "cover_s_BBR               1\n",
       "Managing_12               1\n",
       "escap_s_BBR               1\n",
       "enforce_n_RR              1\n",
       "DR_year                   1\n",
       "nrule                     1\n",
       "monitor_n_RR              1\n",
       "escap_s_ER                1\n",
       "escap_n_BBR               1\n",
       "Name: subindicatorType, Length: 96, dtype: int64"
      ]
     },
     "execution_count": 56,
     "metadata": {},
     "output_type": "execute_result"
    }
   ],
   "source": [
    "gv_indicators['subindicatorType'].value_counts()"
   ]
  },
  {
   "cell_type": "code",
   "execution_count": 55,
   "metadata": {
    "ExecuteTime": {
     "end_time": "2017-07-05T10:01:50.324858Z",
     "start_time": "2017-07-05T10:01:50.296758Z"
    }
   },
   "outputs": [
    {
     "data": {
      "text/html": [
       "<div>\n",
       "<style>\n",
       "    .dataframe thead tr:only-child th {\n",
       "        text-align: right;\n",
       "    }\n",
       "\n",
       "    .dataframe thead th {\n",
       "        text-align: left;\n",
       "    }\n",
       "\n",
       "    .dataframe tbody tr th {\n",
       "        vertical-align: top;\n",
       "    }\n",
       "</style>\n",
       "<table border=\"1\" class=\"dataframe\">\n",
       "  <thead>\n",
       "    <tr style=\"text-align: right;\">\n",
       "      <th></th>\n",
       "      <th>byPartner</th>\n",
       "      <th>byProduct</th>\n",
       "      <th>dataset</th>\n",
       "      <th>datasetId</th>\n",
       "      <th>dateRange</th>\n",
       "      <th>defaultViz</th>\n",
       "      <th>definition</th>\n",
       "      <th>doNotUseViz</th>\n",
       "      <th>id</th>\n",
       "      <th>name</th>\n",
       "      <th>periodicity</th>\n",
       "      <th>rank</th>\n",
       "      <th>subindicatorType</th>\n",
       "      <th>timeframes</th>\n",
       "      <th>units</th>\n",
       "      <th>valueType</th>\n",
       "      <th>name_lower</th>\n",
       "    </tr>\n",
       "  </thead>\n",
       "  <tbody>\n",
       "    <tr>\n",
       "      <th>141</th>\n",
       "      <td>False</td>\n",
       "      <td>False</td>\n",
       "      <td>IBP Open Budget Index</td>\n",
       "      <td>92</td>\n",
       "      <td>2015-2015</td>\n",
       "      <td>bar_chart</td>\n",
       "      <td></td>\n",
       "      <td>[line_chart, slope_graph, spider_chart, chord_...</td>\n",
       "      <td>26968</td>\n",
       "      <td>Does the Executive's Budget Proposal or any su...</td>\n",
       "      <td>once</td>\n",
       "      <td>4.001</td>\n",
       "      <td>Total</td>\n",
       "      <td>[2015]</td>\n",
       "      <td>Count</td>\n",
       "      <td>Total</td>\n",
       "      <td>does the executives budget proposal or any sup...</td>\n",
       "    </tr>\n",
       "    <tr>\n",
       "      <th>1566</th>\n",
       "      <td>False</td>\n",
       "      <td>False</td>\n",
       "      <td>IBP Open Budget Index</td>\n",
       "      <td>92</td>\n",
       "      <td>2015-2015</td>\n",
       "      <td>bar_chart</td>\n",
       "      <td></td>\n",
       "      <td>[line_chart, slope_graph, spider_chart, chord_...</td>\n",
       "      <td>26969</td>\n",
       "      <td>Does the Executive's Budget Proposal or any su...</td>\n",
       "      <td>once</td>\n",
       "      <td>4.306</td>\n",
       "      <td>Total</td>\n",
       "      <td>[2015]</td>\n",
       "      <td>Count</td>\n",
       "      <td>Total</td>\n",
       "      <td>does the executives budget proposal or any sup...</td>\n",
       "    </tr>\n",
       "    <tr>\n",
       "      <th>405</th>\n",
       "      <td>False</td>\n",
       "      <td>False</td>\n",
       "      <td>IBP Open Budget Index</td>\n",
       "      <td>92</td>\n",
       "      <td>2006-2012</td>\n",
       "      <td>line_chart</td>\n",
       "      <td></td>\n",
       "      <td>[spider_chart, slope_graph, chord_diagram]</td>\n",
       "      <td>26971</td>\n",
       "      <td>Does the Executive's Budget Proposal or any su...</td>\n",
       "      <td>semianually</td>\n",
       "      <td>4.051</td>\n",
       "      <td>Total</td>\n",
       "      <td>[2006, 2008, 2010, 2012]</td>\n",
       "      <td>Count</td>\n",
       "      <td>Total</td>\n",
       "      <td>does the executives budget proposal or any sup...</td>\n",
       "    </tr>\n",
       "    <tr>\n",
       "      <th>1285</th>\n",
       "      <td>False</td>\n",
       "      <td>False</td>\n",
       "      <td>IBP Open Budget Index</td>\n",
       "      <td>92</td>\n",
       "      <td>2006-2012</td>\n",
       "      <td>line_chart</td>\n",
       "      <td></td>\n",
       "      <td>[spider_chart, slope_graph, chord_diagram]</td>\n",
       "      <td>26970</td>\n",
       "      <td>Does the Executive's Budget Proposal or any su...</td>\n",
       "      <td>semianually</td>\n",
       "      <td>4.235</td>\n",
       "      <td>Total</td>\n",
       "      <td>[2006, 2008, 2010, 2012]</td>\n",
       "      <td>Count</td>\n",
       "      <td>Total</td>\n",
       "      <td>does the executives budget proposal or any sup...</td>\n",
       "    </tr>\n",
       "    <tr>\n",
       "      <th>770</th>\n",
       "      <td>False</td>\n",
       "      <td>False</td>\n",
       "      <td>IBP Open Budget Index</td>\n",
       "      <td>92</td>\n",
       "      <td>2015-2015</td>\n",
       "      <td>bar_chart</td>\n",
       "      <td></td>\n",
       "      <td>[line_chart, slope_graph, spider_chart, chord_...</td>\n",
       "      <td>26980</td>\n",
       "      <td>Does the Executive's Budget Proposal or any su...</td>\n",
       "      <td>once</td>\n",
       "      <td>4.126</td>\n",
       "      <td>Total</td>\n",
       "      <td>[2015]</td>\n",
       "      <td>Count</td>\n",
       "      <td>Total</td>\n",
       "      <td>does the executives budget proposal or any sup...</td>\n",
       "    </tr>\n",
       "    <tr>\n",
       "      <th>1868</th>\n",
       "      <td>False</td>\n",
       "      <td>False</td>\n",
       "      <td>IBP Open Budget Index</td>\n",
       "      <td>92</td>\n",
       "      <td>2015-2015</td>\n",
       "      <td>bar_chart</td>\n",
       "      <td></td>\n",
       "      <td>[line_chart, slope_graph, spider_chart, chord_...</td>\n",
       "      <td>26981</td>\n",
       "      <td>Does the Executive's Budget Proposal or any su...</td>\n",
       "      <td>once</td>\n",
       "      <td>4.387</td>\n",
       "      <td>Total</td>\n",
       "      <td>[2015]</td>\n",
       "      <td>Count</td>\n",
       "      <td>Total</td>\n",
       "      <td>does the executives budget proposal or any sup...</td>\n",
       "    </tr>\n",
       "    <tr>\n",
       "      <th>608</th>\n",
       "      <td>False</td>\n",
       "      <td>False</td>\n",
       "      <td>PEFA</td>\n",
       "      <td>590</td>\n",
       "      <td>2005-2015</td>\n",
       "      <td>line_chart</td>\n",
       "      <td></td>\n",
       "      <td>[spider_chart, slope_graph, chord_diagram]</td>\n",
       "      <td>27360</td>\n",
       "      <td>Public access to key fiscal information</td>\n",
       "      <td>annually</td>\n",
       "      <td>4.093</td>\n",
       "      <td>Public</td>\n",
       "      <td>[2005, 2006, 2007, 2008, 2009, 2010, 2011, 201...</td>\n",
       "      <td>Count</td>\n",
       "      <td>Public</td>\n",
       "      <td>public access to key fiscal information</td>\n",
       "    </tr>\n",
       "    <tr>\n",
       "      <th>1417</th>\n",
       "      <td>False</td>\n",
       "      <td>False</td>\n",
       "      <td>Public Investment Management</td>\n",
       "      <td>147</td>\n",
       "      <td>2010-2010</td>\n",
       "      <td>bar_chart</td>\n",
       "      <td></td>\n",
       "      <td>[line_chart, slope_graph, spider_chart, chord_...</td>\n",
       "      <td>27451</td>\n",
       "      <td>Public access to key fiscal information</td>\n",
       "      <td>once</td>\n",
       "      <td>4.269</td>\n",
       "      <td>Selection_9</td>\n",
       "      <td>[2010]</td>\n",
       "      <td>Count</td>\n",
       "      <td>Selection_9</td>\n",
       "      <td>public access to key fiscal information</td>\n",
       "    </tr>\n",
       "    <tr>\n",
       "      <th>140</th>\n",
       "      <td>False</td>\n",
       "      <td>False</td>\n",
       "      <td>Bertelsmann Transformation Index</td>\n",
       "      <td>505</td>\n",
       "      <td>2006-2016</td>\n",
       "      <td>line_chart</td>\n",
       "      <td></td>\n",
       "      <td>[spider_chart, slope_graph, chord_diagram]</td>\n",
       "      <td>24764</td>\n",
       "      <td>Rule of Law</td>\n",
       "      <td>semianually</td>\n",
       "      <td>3.080</td>\n",
       "      <td>Total</td>\n",
       "      <td>[2006, 2008, 2010, 2012, 2014, 2016]</td>\n",
       "      <td>Count</td>\n",
       "      <td>Total</td>\n",
       "      <td>rule of law</td>\n",
       "    </tr>\n",
       "    <tr>\n",
       "      <th>575</th>\n",
       "      <td>False</td>\n",
       "      <td>False</td>\n",
       "      <td>Worldwide Governance Indicators</td>\n",
       "      <td>485</td>\n",
       "      <td>1996-2015</td>\n",
       "      <td>line_chart</td>\n",
       "      <td></td>\n",
       "      <td>[spider_chart, slope_graph, chord_diagram]</td>\n",
       "      <td>27874</td>\n",
       "      <td>Rule of Law</td>\n",
       "      <td>annually</td>\n",
       "      <td>4.086</td>\n",
       "      <td>Upper</td>\n",
       "      <td>[1996, 1998, 2000, 2002, 2003, 2004, 2005, 200...</td>\n",
       "      <td>Count</td>\n",
       "      <td>Upper</td>\n",
       "      <td>rule of law</td>\n",
       "    </tr>\n",
       "  </tbody>\n",
       "</table>\n",
       "</div>"
      ],
      "text/plain": [
       "      byPartner  byProduct                           dataset  datasetId  \\\n",
       "141       False      False             IBP Open Budget Index         92   \n",
       "1566      False      False             IBP Open Budget Index         92   \n",
       "405       False      False             IBP Open Budget Index         92   \n",
       "1285      False      False             IBP Open Budget Index         92   \n",
       "770       False      False             IBP Open Budget Index         92   \n",
       "1868      False      False             IBP Open Budget Index         92   \n",
       "608       False      False                              PEFA        590   \n",
       "1417      False      False      Public Investment Management        147   \n",
       "140       False      False  Bertelsmann Transformation Index        505   \n",
       "575       False      False   Worldwide Governance Indicators        485   \n",
       "\n",
       "      dateRange  defaultViz definition  \\\n",
       "141   2015-2015   bar_chart              \n",
       "1566  2015-2015   bar_chart              \n",
       "405   2006-2012  line_chart              \n",
       "1285  2006-2012  line_chart              \n",
       "770   2015-2015   bar_chart              \n",
       "1868  2015-2015   bar_chart              \n",
       "608   2005-2015  line_chart              \n",
       "1417  2010-2010   bar_chart              \n",
       "140   2006-2016  line_chart              \n",
       "575   1996-2015  line_chart              \n",
       "\n",
       "                                            doNotUseViz     id  \\\n",
       "141   [line_chart, slope_graph, spider_chart, chord_...  26968   \n",
       "1566  [line_chart, slope_graph, spider_chart, chord_...  26969   \n",
       "405          [spider_chart, slope_graph, chord_diagram]  26971   \n",
       "1285         [spider_chart, slope_graph, chord_diagram]  26970   \n",
       "770   [line_chart, slope_graph, spider_chart, chord_...  26980   \n",
       "1868  [line_chart, slope_graph, spider_chart, chord_...  26981   \n",
       "608          [spider_chart, slope_graph, chord_diagram]  27360   \n",
       "1417  [line_chart, slope_graph, spider_chart, chord_...  27451   \n",
       "140          [spider_chart, slope_graph, chord_diagram]  24764   \n",
       "575          [spider_chart, slope_graph, chord_diagram]  27874   \n",
       "\n",
       "                                                   name  periodicity   rank  \\\n",
       "141   Does the Executive's Budget Proposal or any su...         once  4.001   \n",
       "1566  Does the Executive's Budget Proposal or any su...         once  4.306   \n",
       "405   Does the Executive's Budget Proposal or any su...  semianually  4.051   \n",
       "1285  Does the Executive's Budget Proposal or any su...  semianually  4.235   \n",
       "770   Does the Executive's Budget Proposal or any su...         once  4.126   \n",
       "1868  Does the Executive's Budget Proposal or any su...         once  4.387   \n",
       "608             Public access to key fiscal information     annually  4.093   \n",
       "1417            Public access to key fiscal information         once  4.269   \n",
       "140                                         Rule of Law  semianually  3.080   \n",
       "575                                         Rule of Law     annually  4.086   \n",
       "\n",
       "     subindicatorType                                         timeframes  \\\n",
       "141             Total                                             [2015]   \n",
       "1566            Total                                             [2015]   \n",
       "405             Total                           [2006, 2008, 2010, 2012]   \n",
       "1285            Total                           [2006, 2008, 2010, 2012]   \n",
       "770             Total                                             [2015]   \n",
       "1868            Total                                             [2015]   \n",
       "608            Public  [2005, 2006, 2007, 2008, 2009, 2010, 2011, 201...   \n",
       "1417      Selection_9                                             [2010]   \n",
       "140             Total               [2006, 2008, 2010, 2012, 2014, 2016]   \n",
       "575             Upper  [1996, 1998, 2000, 2002, 2003, 2004, 2005, 200...   \n",
       "\n",
       "      units    valueType                                         name_lower  \n",
       "141   Count        Total  does the executives budget proposal or any sup...  \n",
       "1566  Count        Total  does the executives budget proposal or any sup...  \n",
       "405   Count        Total  does the executives budget proposal or any sup...  \n",
       "1285  Count        Total  does the executives budget proposal or any sup...  \n",
       "770   Count        Total  does the executives budget proposal or any sup...  \n",
       "1868  Count        Total  does the executives budget proposal or any sup...  \n",
       "608   Count       Public            public access to key fiscal information  \n",
       "1417  Count  Selection_9            public access to key fiscal information  \n",
       "140   Count        Total                                        rule of law  \n",
       "575   Count        Upper                                        rule of law  "
      ]
     },
     "execution_count": 55,
     "metadata": {},
     "output_type": "execute_result"
    }
   ],
   "source": [
    "subset_gv = ['name']\n",
    "gv_indicators[gv_indicators.duplicated(subset=subset_gv, keep=False)].sort_values(by=subset_gv)"
   ]
  },
  {
   "cell_type": "code",
   "execution_count": 54,
   "metadata": {
    "ExecuteTime": {
     "end_time": "2017-07-05T10:00:53.823644Z",
     "start_time": "2017-07-05T10:00:53.796539Z"
    }
   },
   "outputs": [
    {
     "data": {
      "text/html": [
       "<div>\n",
       "<style>\n",
       "    .dataframe thead tr:only-child th {\n",
       "        text-align: right;\n",
       "    }\n",
       "\n",
       "    .dataframe thead th {\n",
       "        text-align: left;\n",
       "    }\n",
       "\n",
       "    .dataframe tbody tr th {\n",
       "        vertical-align: top;\n",
       "    }\n",
       "</style>\n",
       "<table border=\"1\" class=\"dataframe\">\n",
       "  <thead>\n",
       "    <tr style=\"text-align: right;\">\n",
       "      <th></th>\n",
       "      <th>byPartner</th>\n",
       "      <th>byProduct</th>\n",
       "      <th>dataset</th>\n",
       "      <th>datasetId</th>\n",
       "      <th>dateRange</th>\n",
       "      <th>defaultViz</th>\n",
       "      <th>definition</th>\n",
       "      <th>doNotUseViz</th>\n",
       "      <th>id</th>\n",
       "      <th>name</th>\n",
       "      <th>periodicity</th>\n",
       "      <th>rank</th>\n",
       "      <th>subindicatorType</th>\n",
       "      <th>timeframes</th>\n",
       "      <th>units</th>\n",
       "      <th>valueType</th>\n",
       "      <th>name_lower</th>\n",
       "    </tr>\n",
       "  </thead>\n",
       "  <tbody>\n",
       "    <tr>\n",
       "      <th>141</th>\n",
       "      <td>False</td>\n",
       "      <td>False</td>\n",
       "      <td>IBP Open Budget Index</td>\n",
       "      <td>92</td>\n",
       "      <td>2015-2015</td>\n",
       "      <td>bar_chart</td>\n",
       "      <td></td>\n",
       "      <td>[line_chart, slope_graph, spider_chart, chord_...</td>\n",
       "      <td>26968</td>\n",
       "      <td>Does the Executive's Budget Proposal or any su...</td>\n",
       "      <td>once</td>\n",
       "      <td>4.001</td>\n",
       "      <td>Total</td>\n",
       "      <td>[2015]</td>\n",
       "      <td>Count</td>\n",
       "      <td>Total</td>\n",
       "      <td>does the executives budget proposal or any sup...</td>\n",
       "    </tr>\n",
       "    <tr>\n",
       "      <th>1566</th>\n",
       "      <td>False</td>\n",
       "      <td>False</td>\n",
       "      <td>IBP Open Budget Index</td>\n",
       "      <td>92</td>\n",
       "      <td>2015-2015</td>\n",
       "      <td>bar_chart</td>\n",
       "      <td></td>\n",
       "      <td>[line_chart, slope_graph, spider_chart, chord_...</td>\n",
       "      <td>26969</td>\n",
       "      <td>Does the Executive's Budget Proposal or any su...</td>\n",
       "      <td>once</td>\n",
       "      <td>4.306</td>\n",
       "      <td>Total</td>\n",
       "      <td>[2015]</td>\n",
       "      <td>Count</td>\n",
       "      <td>Total</td>\n",
       "      <td>does the executives budget proposal or any sup...</td>\n",
       "    </tr>\n",
       "    <tr>\n",
       "      <th>405</th>\n",
       "      <td>False</td>\n",
       "      <td>False</td>\n",
       "      <td>IBP Open Budget Index</td>\n",
       "      <td>92</td>\n",
       "      <td>2006-2012</td>\n",
       "      <td>line_chart</td>\n",
       "      <td></td>\n",
       "      <td>[spider_chart, slope_graph, chord_diagram]</td>\n",
       "      <td>26971</td>\n",
       "      <td>Does the Executive's Budget Proposal or any su...</td>\n",
       "      <td>semianually</td>\n",
       "      <td>4.051</td>\n",
       "      <td>Total</td>\n",
       "      <td>[2006, 2008, 2010, 2012]</td>\n",
       "      <td>Count</td>\n",
       "      <td>Total</td>\n",
       "      <td>does the executives budget proposal or any sup...</td>\n",
       "    </tr>\n",
       "    <tr>\n",
       "      <th>1285</th>\n",
       "      <td>False</td>\n",
       "      <td>False</td>\n",
       "      <td>IBP Open Budget Index</td>\n",
       "      <td>92</td>\n",
       "      <td>2006-2012</td>\n",
       "      <td>line_chart</td>\n",
       "      <td></td>\n",
       "      <td>[spider_chart, slope_graph, chord_diagram]</td>\n",
       "      <td>26970</td>\n",
       "      <td>Does the Executive's Budget Proposal or any su...</td>\n",
       "      <td>semianually</td>\n",
       "      <td>4.235</td>\n",
       "      <td>Total</td>\n",
       "      <td>[2006, 2008, 2010, 2012]</td>\n",
       "      <td>Count</td>\n",
       "      <td>Total</td>\n",
       "      <td>does the executives budget proposal or any sup...</td>\n",
       "    </tr>\n",
       "    <tr>\n",
       "      <th>770</th>\n",
       "      <td>False</td>\n",
       "      <td>False</td>\n",
       "      <td>IBP Open Budget Index</td>\n",
       "      <td>92</td>\n",
       "      <td>2015-2015</td>\n",
       "      <td>bar_chart</td>\n",
       "      <td></td>\n",
       "      <td>[line_chart, slope_graph, spider_chart, chord_...</td>\n",
       "      <td>26980</td>\n",
       "      <td>Does the Executive's Budget Proposal or any su...</td>\n",
       "      <td>once</td>\n",
       "      <td>4.126</td>\n",
       "      <td>Total</td>\n",
       "      <td>[2015]</td>\n",
       "      <td>Count</td>\n",
       "      <td>Total</td>\n",
       "      <td>does the executives budget proposal or any sup...</td>\n",
       "    </tr>\n",
       "    <tr>\n",
       "      <th>1868</th>\n",
       "      <td>False</td>\n",
       "      <td>False</td>\n",
       "      <td>IBP Open Budget Index</td>\n",
       "      <td>92</td>\n",
       "      <td>2015-2015</td>\n",
       "      <td>bar_chart</td>\n",
       "      <td></td>\n",
       "      <td>[line_chart, slope_graph, spider_chart, chord_...</td>\n",
       "      <td>26981</td>\n",
       "      <td>Does the Executive's Budget Proposal or any su...</td>\n",
       "      <td>once</td>\n",
       "      <td>4.387</td>\n",
       "      <td>Total</td>\n",
       "      <td>[2015]</td>\n",
       "      <td>Count</td>\n",
       "      <td>Total</td>\n",
       "      <td>does the executives budget proposal or any sup...</td>\n",
       "    </tr>\n",
       "  </tbody>\n",
       "</table>\n",
       "</div>"
      ],
      "text/plain": [
       "      byPartner  byProduct                dataset  datasetId  dateRange  \\\n",
       "141       False      False  IBP Open Budget Index         92  2015-2015   \n",
       "1566      False      False  IBP Open Budget Index         92  2015-2015   \n",
       "405       False      False  IBP Open Budget Index         92  2006-2012   \n",
       "1285      False      False  IBP Open Budget Index         92  2006-2012   \n",
       "770       False      False  IBP Open Budget Index         92  2015-2015   \n",
       "1868      False      False  IBP Open Budget Index         92  2015-2015   \n",
       "\n",
       "      defaultViz definition  \\\n",
       "141    bar_chart              \n",
       "1566   bar_chart              \n",
       "405   line_chart              \n",
       "1285  line_chart              \n",
       "770    bar_chart              \n",
       "1868   bar_chart              \n",
       "\n",
       "                                            doNotUseViz     id  \\\n",
       "141   [line_chart, slope_graph, spider_chart, chord_...  26968   \n",
       "1566  [line_chart, slope_graph, spider_chart, chord_...  26969   \n",
       "405          [spider_chart, slope_graph, chord_diagram]  26971   \n",
       "1285         [spider_chart, slope_graph, chord_diagram]  26970   \n",
       "770   [line_chart, slope_graph, spider_chart, chord_...  26980   \n",
       "1868  [line_chart, slope_graph, spider_chart, chord_...  26981   \n",
       "\n",
       "                                                   name  periodicity   rank  \\\n",
       "141   Does the Executive's Budget Proposal or any su...         once  4.001   \n",
       "1566  Does the Executive's Budget Proposal or any su...         once  4.306   \n",
       "405   Does the Executive's Budget Proposal or any su...  semianually  4.051   \n",
       "1285  Does the Executive's Budget Proposal or any su...  semianually  4.235   \n",
       "770   Does the Executive's Budget Proposal or any su...         once  4.126   \n",
       "1868  Does the Executive's Budget Proposal or any su...         once  4.387   \n",
       "\n",
       "     subindicatorType                timeframes  units valueType  \\\n",
       "141             Total                    [2015]  Count     Total   \n",
       "1566            Total                    [2015]  Count     Total   \n",
       "405             Total  [2006, 2008, 2010, 2012]  Count     Total   \n",
       "1285            Total  [2006, 2008, 2010, 2012]  Count     Total   \n",
       "770             Total                    [2015]  Count     Total   \n",
       "1868            Total                    [2015]  Count     Total   \n",
       "\n",
       "                                             name_lower  \n",
       "141   does the executives budget proposal or any sup...  \n",
       "1566  does the executives budget proposal or any sup...  \n",
       "405   does the executives budget proposal or any sup...  \n",
       "1285  does the executives budget proposal or any sup...  \n",
       "770   does the executives budget proposal or any sup...  \n",
       "1868  does the executives budget proposal or any sup...  "
      ]
     },
     "execution_count": 54,
     "metadata": {},
     "output_type": "execute_result"
    }
   ],
   "source": [
    "subset_gv = ['name', 'subindicatorType', 'valueType']\n",
    "gv_indicators[gv_indicators.duplicated(subset=subset_gv, keep=False)].sort_values(by=subset_gv)"
   ]
  },
  {
   "cell_type": "code",
   "execution_count": 5,
   "metadata": {
    "ExecuteTime": {
     "end_time": "2017-07-05T09:44:05.410708Z",
     "start_time": "2017-07-05T09:44:05.404696Z"
    }
   },
   "outputs": [
    {
     "data": {
      "text/plain": [
       "Index(['byPartner_gv', 'byPartner_tc', 'byProduct_gv', 'byProduct_tc',\n",
       "       'datasetId_gv', 'datasetId_tc', 'dataset_gv', 'dataset_tc',\n",
       "       'dateRange_gv', 'dateRange_tc', 'defaultViz_gv', 'defaultViz_tc',\n",
       "       'definition_gv', 'definition_tc', 'doNotUseViz_gv', 'doNotUseViz_tc',\n",
       "       'gv_indicator', 'id_gv', 'id_tc', 'index', 'match_type', 'name_gv',\n",
       "       'name_lower_gv', 'name_lower_tc', 'name_tc', 'partial_ratio',\n",
       "       'periodicity_gv', 'periodicity_tc', 'rank_gv', 'rank_tc', 'ratio',\n",
       "       'source_dataset', 'stat_max', 'stat_mean', 'stat_min',\n",
       "       'subindicatorType_gv', 'subindicatorType_tc', 'tc_indicator',\n",
       "       'timeframes_gv', 'timeframes_tc', 'token_set_ratio', 'token_sort_ratio',\n",
       "       'units_gv', 'units_tc', 'valueType_gv', 'valueType_tc'],\n",
       "      dtype='object')"
      ]
     },
     "execution_count": 5,
     "metadata": {},
     "output_type": "execute_result"
    }
   ],
   "source": [
    "df_final_matched.columns"
   ]
  },
  {
   "cell_type": "code",
   "execution_count": 6,
   "metadata": {
    "ExecuteTime": {
     "end_time": "2017-07-05T09:45:07.878792Z",
     "start_time": "2017-07-05T09:45:07.874749Z"
    },
    "collapsed": true
   },
   "outputs": [],
   "source": [
    "impt_cols = ['match_type','name_gv', 'name_tc', 'subindicatorType_gv', 'subindicatorType_tc',\n",
    "       'timeframes_gv', 'timeframes_tc', 'token_set_ratio', 'token_sort_ratio',\n",
    "       'units_gv', 'units_tc', 'valueType_gv', 'valueType_tc']"
   ]
  },
  {
   "cell_type": "code",
   "execution_count": 8,
   "metadata": {
    "ExecuteTime": {
     "end_time": "2017-07-05T09:45:25.203430Z",
     "start_time": "2017-07-05T09:45:25.193407Z"
    },
    "scrolled": false
   },
   "outputs": [
    {
     "data": {
      "text/plain": [
       "Total    356\n",
       "Value    170\n",
       "Upper     25\n",
       "Name: subindicatorType_gv, dtype: int64"
      ]
     },
     "execution_count": 8,
     "metadata": {},
     "output_type": "execute_result"
    }
   ],
   "source": [
    "df_final_matched[impt_cols]['subindicatorType_gv'].value_counts()"
   ]
  },
  {
   "cell_type": "code",
   "execution_count": 9,
   "metadata": {
    "ExecuteTime": {
     "end_time": "2017-07-05T09:45:30.194360Z",
     "start_time": "2017-07-05T09:45:30.187343Z"
    }
   },
   "outputs": [
    {
     "data": {
      "text/plain": [
       "Value                           384\n",
       "Rank                             85\n",
       "Overall Rank                     27\n",
       "Overall Distance to Frontier     27\n",
       "Standard Error                    5\n",
       "Lower Bound                       5\n",
       "Percentile Rank                   5\n",
       "Upper Bound                       5\n",
       "Estimate                          5\n",
       "Index                             3\n",
       "Name: subindicatorType_tc, dtype: int64"
      ]
     },
     "execution_count": 9,
     "metadata": {},
     "output_type": "execute_result"
    }
   ],
   "source": [
    "df_final_matched[impt_cols]['subindicatorType_tc'].value_counts()"
   ]
  },
  {
   "cell_type": "code",
   "execution_count": 38,
   "metadata": {
    "ExecuteTime": {
     "end_time": "2017-07-05T09:56:52.498523Z",
     "start_time": "2017-07-05T09:56:52.491503Z"
    }
   },
   "outputs": [
    {
     "data": {
      "text/plain": [
       "Count     459\n",
       "%          79\n",
       "Yes/No      9\n",
       "USD         4\n",
       "Name: units_gv, dtype: int64"
      ]
     },
     "execution_count": 38,
     "metadata": {},
     "output_type": "execute_result"
    }
   ],
   "source": [
    "df_final_matched[impt_cols]['units_gv'].value_counts()"
   ]
  },
  {
   "cell_type": "code",
   "execution_count": 40,
   "metadata": {
    "ExecuteTime": {
     "end_time": "2017-07-05T09:57:12.868435Z",
     "start_time": "2017-07-05T09:57:12.858411Z"
    }
   },
   "outputs": [
    {
     "data": {
      "text/plain": [
       "Rank                            112\n",
       "Yes/No                          108\n",
       "Index 1-7 (best)                 52\n",
       "% of firms                       47\n",
       "%                                28\n",
       "Distance to Frontier             27\n",
       "Days                             19\n",
       "Index                            17\n",
       "Years                            12\n",
       "Index (0-10)                     10\n",
       "# of workers                      6\n",
       "Hours                             6\n",
       "% of annual sales                 6\n",
       "Index Lower Bound                 5\n",
       "Percentile Rank                   5\n",
       "# of procedures                   5\n",
       "Estimate                          5\n",
       "Index Standard Error              5\n",
       "% of workers                      5\n",
       "Index Upper Bound                 5\n",
       "per 100 population                4\n",
       "US$                               4\n",
       "% of investments                  4\n",
       "% of income per cpaita            4\n",
       "% ownership                       4\n",
       "% of profit                       4\n",
       "% of sales                        3\n",
       "% of adults                       2\n",
       "Index (0-12)                      2\n",
       "# of visits                       2\n",
       "% of working capital              2\n",
       "Index (0-3)                       2\n",
       "Index (0-8)                       2\n",
       "% of products                     1\n",
       "Applications per million pop      1\n",
       "Index (0-16)                      1\n",
       "% of profits                      1\n",
       "# of justices                     1\n",
       "% of property value               1\n",
       "# of women                        1\n",
       "% of warehouse value              1\n",
       "#                                 1\n",
       "Index (0-30)                      1\n",
       "% of loans                        1\n",
       "Index (0-6)                       1\n",
       "# of outages                      1\n",
       "Index (0-15)                      1\n",
       "Deaths per 1,000 live births      1\n",
       "% of claim                        1\n",
       "% of estate                       1\n",
       "% of loan amount                  1\n",
       "Available seat km/week            1\n",
       "Cents on the dollar               1\n",
       "Index (0-18)                      1\n",
       "% of GDP                          1\n",
       "Index 0-10 (best)                 1\n",
       "Index (0-4)                       1\n",
       "kb/s                              1\n",
       "% duty                            1\n",
       "#/year                            1\n",
       "Name: units_tc, dtype: int64"
      ]
     },
     "execution_count": 40,
     "metadata": {},
     "output_type": "execute_result"
    }
   ],
   "source": [
    "df_final_matched[impt_cols]['units_tc'].value_counts()"
   ]
  },
  {
   "cell_type": "code",
   "execution_count": 39,
   "metadata": {
    "ExecuteTime": {
     "end_time": "2017-07-05T09:57:03.071219Z",
     "start_time": "2017-07-05T09:57:03.063198Z"
    }
   },
   "outputs": [
    {
     "data": {
      "text/plain": [
       "Total    356\n",
       "Value    170\n",
       "Upper     25\n",
       "Name: valueType_gv, dtype: int64"
      ]
     },
     "execution_count": 39,
     "metadata": {},
     "output_type": "execute_result"
    }
   ],
   "source": [
    "df_final_matched[impt_cols]['valueType_gv'].value_counts()"
   ]
  },
  {
   "cell_type": "code",
   "execution_count": 41,
   "metadata": {
    "ExecuteTime": {
     "end_time": "2017-07-05T09:57:55.325099Z",
     "start_time": "2017-07-05T09:57:55.318082Z"
    }
   },
   "outputs": [
    {
     "data": {
      "text/plain": [
       "value              387\n",
       "rank               112\n",
       "dtf                 27\n",
       "lower_bound          5\n",
       "Percentile Rank      5\n",
       "Estimate             5\n",
       "standard_error       5\n",
       "upper_bound          5\n",
       "Name: valueType_tc, dtype: int64"
      ]
     },
     "execution_count": 41,
     "metadata": {},
     "output_type": "execute_result"
    }
   ],
   "source": [
    "df_final_matched[impt_cols]['valueType_tc'].value_counts()"
   ]
  },
  {
   "cell_type": "code",
   "execution_count": 13,
   "metadata": {
    "ExecuteTime": {
     "end_time": "2017-07-05T09:47:11.307313Z",
     "start_time": "2017-07-05T09:47:11.300294Z"
    }
   },
   "outputs": [
    {
     "data": {
      "text/plain": [
       "(551, 2)"
      ]
     },
     "execution_count": 13,
     "metadata": {},
     "output_type": "execute_result"
    }
   ],
   "source": [
    "df_final_matched[impt_cols][['name_tc', 'subindicatorType_tc']].shape"
   ]
  },
  {
   "cell_type": "code",
   "execution_count": 14,
   "metadata": {
    "ExecuteTime": {
     "end_time": "2017-07-05T09:47:24.726121Z",
     "start_time": "2017-07-05T09:47:24.718099Z"
    }
   },
   "outputs": [
    {
     "data": {
      "text/plain": [
       "(487, 2)"
      ]
     },
     "execution_count": 14,
     "metadata": {},
     "output_type": "execute_result"
    }
   ],
   "source": [
    "df_final_matched[impt_cols][['name_tc', 'subindicatorType_tc']].drop_duplicates().shape"
   ]
  },
  {
   "cell_type": "code",
   "execution_count": 28,
   "metadata": {
    "ExecuteTime": {
     "end_time": "2017-07-05T09:52:30.607334Z",
     "start_time": "2017-07-05T09:52:30.600307Z"
    },
    "scrolled": false
   },
   "outputs": [
    {
     "data": {
      "text/plain": [
       "(85, 13)"
      ]
     },
     "execution_count": 28,
     "metadata": {},
     "output_type": "execute_result"
    }
   ],
   "source": [
    "df_final_matched[impt_cols][(df_final_matched['subindicatorType_tc'] == 'Rank')].shape"
   ]
  },
  {
   "cell_type": "code",
   "execution_count": 37,
   "metadata": {
    "ExecuteTime": {
     "end_time": "2017-07-05T09:55:55.020319Z",
     "start_time": "2017-07-05T09:55:55.006281Z"
    }
   },
   "outputs": [
    {
     "data": {
      "text/html": [
       "<div>\n",
       "<style>\n",
       "    .dataframe thead tr:only-child th {\n",
       "        text-align: right;\n",
       "    }\n",
       "\n",
       "    .dataframe thead th {\n",
       "        text-align: left;\n",
       "    }\n",
       "\n",
       "    .dataframe tbody tr th {\n",
       "        vertical-align: top;\n",
       "    }\n",
       "</style>\n",
       "<table border=\"1\" class=\"dataframe\">\n",
       "  <thead>\n",
       "    <tr style=\"text-align: right;\">\n",
       "      <th></th>\n",
       "      <th>match_type</th>\n",
       "      <th>name_gv</th>\n",
       "      <th>name_tc</th>\n",
       "      <th>subindicatorType_gv</th>\n",
       "      <th>subindicatorType_tc</th>\n",
       "      <th>timeframes_gv</th>\n",
       "      <th>timeframes_tc</th>\n",
       "      <th>token_set_ratio</th>\n",
       "      <th>token_sort_ratio</th>\n",
       "      <th>units_gv</th>\n",
       "      <th>units_tc</th>\n",
       "      <th>valueType_gv</th>\n",
       "      <th>valueType_tc</th>\n",
       "    </tr>\n",
       "  </thead>\n",
       "  <tbody>\n",
       "  </tbody>\n",
       "</table>\n",
       "</div>"
      ],
      "text/plain": [
       "Empty DataFrame\n",
       "Columns: [match_type, name_gv, name_tc, subindicatorType_gv, subindicatorType_tc, timeframes_gv, timeframes_tc, token_set_ratio, token_sort_ratio, units_gv, units_tc, valueType_gv, valueType_tc]\n",
       "Index: []"
      ]
     },
     "execution_count": 37,
     "metadata": {},
     "output_type": "execute_result"
    }
   ],
   "source": [
    "df_final_matched[impt_cols][(df_final_matched['subindicatorType_tc'] == 'Rank') & (df_final_matched['name_lower_gv'].str.contains('rank'))]"
   ]
  },
  {
   "cell_type": "markdown",
   "metadata": {},
   "source": [
    "We remove all instances of `'subindicatorType_tc' == 'Rank'` since there is no Govdata360 indicator with type \"Rank\" (either in `subindicatorType_gv` or in `name_gv`)"
   ]
  },
  {
   "cell_type": "code",
   "execution_count": 116,
   "metadata": {
    "ExecuteTime": {
     "end_time": "2017-07-05T10:22:54.036236Z",
     "start_time": "2017-07-05T10:22:54.030220Z"
    }
   },
   "outputs": [],
   "source": [
    "df_final_matched_cleaned = df_final_matched[~(df_final_matched['subindicatorType_tc'] == 'Rank')].reset_index(drop=True)"
   ]
  },
  {
   "cell_type": "markdown",
   "metadata": {},
   "source": [
    "We match Govdata360 indicators with `\"DTF\"` or `\"Rank\"` in the name to the corresponding `subindicatorType_tc`."
   ]
  },
  {
   "cell_type": "code",
   "execution_count": 117,
   "metadata": {
    "ExecuteTime": {
     "end_time": "2017-07-05T10:23:02.917037Z",
     "start_time": "2017-07-05T10:23:02.913027Z"
    },
    "collapsed": true
   },
   "outputs": [],
   "source": [
    "def matching_dtf_rank(x):\n",
    "    val = np.nan\n",
    "    \n",
    "    if 'Rank' in x:\n",
    "        val = 'Overall Rank'\n",
    "        \n",
    "    elif 'DTF' in x:\n",
    "        val = 'Overall Distance to Frontier'\n",
    "\n",
    "    return val"
   ]
  },
  {
   "cell_type": "code",
   "execution_count": 118,
   "metadata": {
    "ExecuteTime": {
     "end_time": "2017-07-05T10:23:03.336158Z",
     "start_time": "2017-07-05T10:23:03.332146Z"
    }
   },
   "outputs": [],
   "source": [
    "df_final_matched_cleaned['subindicatorType_gv_derived_from_name'] = df_final_matched_cleaned['name_gv'].apply(matching_dtf_rank)"
   ]
  },
  {
   "cell_type": "code",
   "execution_count": 119,
   "metadata": {
    "ExecuteTime": {
     "end_time": "2017-07-05T10:23:03.746240Z",
     "start_time": "2017-07-05T10:23:03.738218Z"
    }
   },
   "outputs": [
    {
     "data": {
      "text/plain": [
       "Overall Rank                    20\n",
       "Overall Distance to Frontier    20\n",
       "Name: subindicatorType_gv_derived_from_name, dtype: int64"
      ]
     },
     "execution_count": 119,
     "metadata": {},
     "output_type": "execute_result"
    }
   ],
   "source": [
    "df_final_matched_cleaned['subindicatorType_gv_derived_from_name'].value_counts()"
   ]
  },
  {
   "cell_type": "code",
   "execution_count": 120,
   "metadata": {
    "ExecuteTime": {
     "end_time": "2017-07-05T10:23:04.337967Z",
     "start_time": "2017-07-05T10:23:04.332955Z"
    }
   },
   "outputs": [],
   "source": [
    "df_final_matched_cleaned['subindicatorType_gv_imputed'] = df_final_matched_cleaned['subindicatorType_gv'].apply(lambda x: 'Upper Bound' if x == 'Upper' else x)"
   ]
  },
  {
   "cell_type": "code",
   "execution_count": 121,
   "metadata": {
    "ExecuteTime": {
     "end_time": "2017-07-05T10:23:05.697558Z",
     "start_time": "2017-07-05T10:23:05.692539Z"
    }
   },
   "outputs": [],
   "source": [
    "df_final_matched_cleaned['subindicatorType_gv_final'] = df_final_matched_cleaned['subindicatorType_gv_derived_from_name'].combine_first(df_final_matched_cleaned['subindicatorType_gv_imputed'])"
   ]
  },
  {
   "cell_type": "code",
   "execution_count": 122,
   "metadata": {
    "ExecuteTime": {
     "end_time": "2017-07-05T10:23:06.066977Z",
     "start_time": "2017-07-05T10:23:06.059960Z"
    }
   },
   "outputs": [
    {
     "data": {
      "text/plain": [
       "Total                           316\n",
       "Value                            85\n",
       "Upper Bound                      25\n",
       "Overall Rank                     20\n",
       "Overall Distance to Frontier     20\n",
       "Name: subindicatorType_gv_final, dtype: int64"
      ]
     },
     "execution_count": 122,
     "metadata": {},
     "output_type": "execute_result"
    }
   ],
   "source": [
    "df_final_matched_cleaned['subindicatorType_gv_final'].value_counts()"
   ]
  },
  {
   "cell_type": "code",
   "execution_count": 123,
   "metadata": {
    "ExecuteTime": {
     "end_time": "2017-07-05T10:23:06.604605Z",
     "start_time": "2017-07-05T10:23:06.599585Z"
    }
   },
   "outputs": [],
   "source": [
    "impt_cols = ['match_type',\n",
    " 'name_gv',\n",
    " 'name_tc',\n",
    " 'subindicatorType_gv_final',\n",
    " 'subindicatorType_tc',\n",
    " 'timeframes_gv',\n",
    " 'timeframes_tc',\n",
    " 'units_gv',\n",
    " 'units_tc',\n",
    " 'valueType_gv',\n",
    " 'valueType_tc']"
   ]
  },
  {
   "cell_type": "code",
   "execution_count": 124,
   "metadata": {
    "ExecuteTime": {
     "end_time": "2017-07-05T10:23:10.059858Z",
     "start_time": "2017-07-05T10:23:10.053842Z"
    }
   },
   "outputs": [
    {
     "data": {
      "text/plain": [
       "(466, 49)"
      ]
     },
     "execution_count": 124,
     "metadata": {},
     "output_type": "execute_result"
    }
   ],
   "source": [
    "df_final_matched_cleaned.shape"
   ]
  },
  {
   "cell_type": "code",
   "execution_count": 125,
   "metadata": {
    "ExecuteTime": {
     "end_time": "2017-07-05T10:23:12.147479Z",
     "start_time": "2017-07-05T10:23:12.138454Z"
    }
   },
   "outputs": [
    {
     "data": {
      "text/plain": [
       "(40, 11)"
      ]
     },
     "execution_count": 125,
     "metadata": {},
     "output_type": "execute_result"
    }
   ],
   "source": [
    "imputed_vals = ['Overall Distance to Frontier', 'Overall Rank', 'Upper Bound']\n",
    "for_removal = df_final_matched_cleaned[impt_cols][(df_final_matched_cleaned['subindicatorType_gv_final'].isin(imputed_vals)) &\n",
    "                                    (df_final_matched_cleaned['subindicatorType_gv_final'] != df_final_matched_cleaned['subindicatorType_tc'])]\n",
    "for_removal.shape"
   ]
  },
  {
   "cell_type": "code",
   "execution_count": 126,
   "metadata": {
    "ExecuteTime": {
     "end_time": "2017-07-05T10:23:17.743787Z",
     "start_time": "2017-07-05T10:23:17.737764Z"
    },
    "scrolled": false
   },
   "outputs": [],
   "source": [
    "df_final_matched_cleaned_final = df_final_matched_cleaned[~((df_final_matched_cleaned['subindicatorType_gv_final'].isin(imputed_vals)) &\n",
    "                                    (df_final_matched_cleaned['subindicatorType_gv_final'] != df_final_matched_cleaned['subindicatorType_tc']))]"
   ]
  },
  {
   "cell_type": "code",
   "execution_count": 127,
   "metadata": {
    "ExecuteTime": {
     "end_time": "2017-07-05T10:23:20.134999Z",
     "start_time": "2017-07-05T10:23:20.129966Z"
    }
   },
   "outputs": [
    {
     "data": {
      "text/plain": [
       "(426, 49)"
      ]
     },
     "execution_count": 127,
     "metadata": {},
     "output_type": "execute_result"
    }
   ],
   "source": [
    "df_final_matched_cleaned_final.shape"
   ]
  },
  {
   "cell_type": "code",
   "execution_count": 129,
   "metadata": {
    "ExecuteTime": {
     "end_time": "2017-07-05T10:23:32.144460Z",
     "start_time": "2017-07-05T10:23:32.117390Z"
    },
    "scrolled": false
   },
   "outputs": [],
   "source": [
    "df_final_matched_cleaned_final.to_csv(\"%s-TC-Gov_Full-Matched-Indicators_complete_cleaned.csv\" % (date_today), index=False)"
   ]
  }
 ],
 "metadata": {
  "kernelspec": {
   "display_name": "Python 3",
   "language": "python",
   "name": "python3"
  },
  "language_info": {
   "codemirror_mode": {
    "name": "ipython",
    "version": 3
   },
   "file_extension": ".py",
   "mimetype": "text/x-python",
   "name": "python",
   "nbconvert_exporter": "python",
   "pygments_lexer": "ipython3",
   "version": "3.6.1"
  },
  "toc": {
   "colors": {
    "hover_highlight": "#DAA520",
    "navigate_num": "#000000",
    "navigate_text": "#333333",
    "running_highlight": "#FF0000",
    "selected_highlight": "#FFD700",
    "sidebar_border": "#EEEEEE",
    "wrapper_background": "#FFFFFF"
   },
   "moveMenuLeft": true,
   "nav_menu": {
    "height": "250px",
    "width": "252px"
   },
   "navigate_menu": true,
   "number_sections": true,
   "sideBar": true,
   "threshold": 4,
   "toc_cell": false,
   "toc_position": {
    "height": "626px",
    "left": "0px",
    "right": "1324px",
    "top": "108px",
    "width": "212px"
   },
   "toc_section_display": "block",
   "toc_window_display": true,
   "widenNotebook": false
  }
 },
 "nbformat": 4,
 "nbformat_minor": 2
}
